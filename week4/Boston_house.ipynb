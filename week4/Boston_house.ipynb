{
  "nbformat": 4,
  "nbformat_minor": 0,
  "metadata": {
    "colab": {
      "name": "Boston_house.ipynb",
      "version": "0.3.2",
      "provenance": [],
      "collapsed_sections": [],
      "include_colab_link": true
    },
    "kernelspec": {
      "name": "python3",
      "display_name": "Python 3"
    },
    "accelerator": "GPU"
  },
  "cells": [
    {
      "cell_type": "markdown",
      "metadata": {
        "id": "view-in-github",
        "colab_type": "text"
      },
      "source": [
        "<a href=\"https://colab.research.google.com/github/Tsatthienmach/AiSummerCode/blob/master/week4/Boston_house.ipynb\" target=\"_parent\"><img src=\"https://colab.research.google.com/assets/colab-badge.svg\" alt=\"Open In Colab\"/></a>"
      ]
    },
    {
      "cell_type": "code",
      "metadata": {
        "id": "ZvDRPOu06b0M",
        "colab_type": "code",
        "colab": {}
      },
      "source": [
        "import pandas as pd\n",
        "import random\n",
        "import matplotlib.pyplot as plt\n",
        "import numpy as np"
      ],
      "execution_count": 0,
      "outputs": []
    },
    {
      "cell_type": "code",
      "metadata": {
        "id": "4ZmSSatyoRYC",
        "colab_type": "code",
        "colab": {
          "base_uri": "https://localhost:8080/",
          "height": 170
        },
        "outputId": "632d855a-db54-4b76-875f-20df7081b709"
      },
      "source": [
        "# Clone the entire repo.\n",
        "!git clone -l -s https://github.com/Tsatthienmach/AiSummerCode.git cloned-repo\n",
        "%cd cloned-repo\n",
        "!ls"
      ],
      "execution_count": 2,
      "outputs": [
        {
          "output_type": "stream",
          "text": [
            "Cloning into 'cloned-repo'...\n",
            "warning: --local is ignored\n",
            "remote: Enumerating objects: 55, done.\u001b[K\n",
            "remote: Counting objects: 100% (55/55), done.\u001b[K\n",
            "remote: Compressing objects: 100% (49/49), done.\u001b[K\n",
            "remote: Total 55 (delta 17), reused 0 (delta 0), pack-reused 0\u001b[K\n",
            "Unpacking objects: 100% (55/55), done.\n",
            "/content/cloned-repo\n",
            "_config.yml  documentations  README.md\tweek2  week4\n"
          ],
          "name": "stdout"
        }
      ]
    },
    {
      "cell_type": "code",
      "metadata": {
        "id": "hexxgMLZ4-eM",
        "colab_type": "code",
        "outputId": "af4bdcbf-5989-4708-e1c5-2d15444a77ac",
        "colab": {
          "base_uri": "https://localhost:8080/",
          "height": 1000
        }
      },
      "source": [
        "data = pd.read_csv('/content/cloned-repo/week4/Boston_Dataset.csv'  , header= 0 )\n",
        "print(data)"
      ],
      "execution_count": 3,
      "outputs": [
        {
          "output_type": "stream",
          "text": [
            "      ID      crim    zn  indus  chas  ...  tax  ptratio   black  lstat  medv\n",
            "0      1   0.00632  18.0   2.31     0  ...  296     15.3  396.90   4.98  24.0\n",
            "1      2   0.02731   0.0   7.07     0  ...  242     17.8  396.90   9.14  21.6\n",
            "2      4   0.03237   0.0   2.18     0  ...  222     18.7  394.63   2.94  33.4\n",
            "3      5   0.06905   0.0   2.18     0  ...  222     18.7  396.90   5.33  36.2\n",
            "4      7   0.08829  12.5   7.87     0  ...  311     15.2  395.60  12.43  22.9\n",
            "5     11   0.22489  12.5   7.87     0  ...  311     15.2  392.52  20.45  15.0\n",
            "6     12   0.11747  12.5   7.87     0  ...  311     15.2  396.90  13.27  18.9\n",
            "7     13   0.09378  12.5   7.87     0  ...  311     15.2  390.50  15.71  21.7\n",
            "8     14   0.62976   0.0   8.14     0  ...  307     21.0  396.90   8.26  20.4\n",
            "9     15   0.63796   0.0   8.14     0  ...  307     21.0  380.02  10.26  18.2\n",
            "10    16   0.62739   0.0   8.14     0  ...  307     21.0  395.62   8.47  19.9\n",
            "11    17   1.05393   0.0   8.14     0  ...  307     21.0  386.85   6.58  23.1\n",
            "12    19   0.80271   0.0   8.14     0  ...  307     21.0  288.99  11.69  20.2\n",
            "13    21   1.25179   0.0   8.14     0  ...  307     21.0  376.57  21.02  13.6\n",
            "14    22   0.85204   0.0   8.14     0  ...  307     21.0  392.53  13.83  19.6\n",
            "15    23   1.23247   0.0   8.14     0  ...  307     21.0  396.90  18.72  15.2\n",
            "16    24   0.98843   0.0   8.14     0  ...  307     21.0  394.54  19.88  14.5\n",
            "17    28   0.95577   0.0   8.14     0  ...  307     21.0  306.38  17.28  14.8\n",
            "18    31   1.13081   0.0   8.14     0  ...  307     21.0  360.17  22.60  12.7\n",
            "19    32   1.35472   0.0   8.14     0  ...  307     21.0  376.73  13.04  14.5\n",
            "20    35   1.61282   0.0   8.14     0  ...  307     21.0  248.31  20.34  13.5\n",
            "21    39   0.17505   0.0   5.96     0  ...  279     19.2  393.43  10.13  24.7\n",
            "22    40   0.02763  75.0   2.95     0  ...  252     18.3  395.63   4.32  30.8\n",
            "23    41   0.03359  75.0   2.95     0  ...  252     18.3  395.62   1.98  34.9\n",
            "24    43   0.14150   0.0   6.91     0  ...  233     17.9  383.37   5.81  25.3\n",
            "25    44   0.15936   0.0   6.91     0  ...  233     17.9  394.46   7.44  24.7\n",
            "26    45   0.12269   0.0   6.91     0  ...  233     17.9  389.39   9.55  21.2\n",
            "27    46   0.17142   0.0   6.91     0  ...  233     17.9  396.90  10.21  19.3\n",
            "28    47   0.18836   0.0   6.91     0  ...  233     17.9  396.90  14.15  20.0\n",
            "29    48   0.22927   0.0   6.91     0  ...  233     17.9  392.74  18.80  16.6\n",
            "..   ...       ...   ...    ...   ...  ...  ...      ...     ...    ...   ...\n",
            "303  465   7.83932   0.0  18.10     0  ...  666     20.2  396.90  13.22  21.4\n",
            "304  466   3.16360   0.0  18.10     0  ...  666     20.2  334.40  14.13  19.9\n",
            "305  467   3.77498   0.0  18.10     0  ...  666     20.2   22.01  17.15  19.0\n",
            "306  468   4.42228   0.0  18.10     0  ...  666     20.2  331.29  21.32  19.1\n",
            "307  469  15.57570   0.0  18.10     0  ...  666     20.2  368.74  18.13  19.1\n",
            "308  470  13.07510   0.0  18.10     0  ...  666     20.2  396.90  14.76  20.1\n",
            "309  472   4.03841   0.0  18.10     0  ...  666     20.2  395.33  12.87  19.6\n",
            "310  473   3.56868   0.0  18.10     0  ...  666     20.2  393.37  14.36  23.2\n",
            "311  475   8.05579   0.0  18.10     0  ...  666     20.2  352.58  18.14  13.8\n",
            "312  477   4.87141   0.0  18.10     0  ...  666     20.2  396.21  18.68  16.7\n",
            "313  478  15.02340   0.0  18.10     0  ...  666     20.2  349.48  24.91  12.0\n",
            "314  479  10.23300   0.0  18.10     0  ...  666     20.2  379.70  18.03  14.6\n",
            "315  480  14.33370   0.0  18.10     0  ...  666     20.2  383.32  13.11  21.4\n",
            "316  481   5.82401   0.0  18.10     0  ...  666     20.2  396.90  10.74  23.0\n",
            "317  482   5.70818   0.0  18.10     0  ...  666     20.2  393.07   7.74  23.7\n",
            "318  484   2.81838   0.0  18.10     0  ...  666     20.2  392.92  10.42  21.8\n",
            "319  485   2.37857   0.0  18.10     0  ...  666     20.2  370.73  13.34  20.6\n",
            "320  487   5.69175   0.0  18.10     0  ...  666     20.2  392.68  14.98  19.1\n",
            "321  488   4.83567   0.0  18.10     0  ...  666     20.2  388.22  11.45  20.6\n",
            "322  489   0.15086   0.0  27.74     0  ...  711     20.1  395.09  18.06  15.2\n",
            "323  491   0.20746   0.0  27.74     0  ...  711     20.1  318.43  29.68   8.1\n",
            "324  492   0.10574   0.0  27.74     0  ...  711     20.1  390.11  18.07  13.6\n",
            "325  493   0.11132   0.0  27.74     0  ...  711     20.1  396.90  13.35  20.1\n",
            "326  494   0.17331   0.0   9.69     0  ...  391     19.2  396.90  12.01  21.8\n",
            "327  498   0.26838   0.0   9.69     0  ...  391     19.2  396.90  14.10  18.3\n",
            "328  500   0.17783   0.0   9.69     0  ...  391     19.2  395.77  15.10  17.5\n",
            "329  502   0.06263   0.0  11.93     0  ...  273     21.0  391.99   9.67  22.4\n",
            "330  503   0.04527   0.0  11.93     0  ...  273     21.0  396.90   9.08  20.6\n",
            "331  504   0.06076   0.0  11.93     0  ...  273     21.0  396.90   5.64  23.9\n",
            "332  506   0.04741   0.0  11.93     0  ...  273     21.0  396.90   7.88  11.9\n",
            "\n",
            "[333 rows x 15 columns]\n"
          ],
          "name": "stdout"
        }
      ]
    },
    {
      "cell_type": "code",
      "metadata": {
        "id": "FRqylNA56d0C",
        "colab_type": "code",
        "colab": {}
      },
      "source": [
        "data_len = len(data)\n",
        "features = data.values[:,1:-1]\n",
        "prices = data.values[:,-1]"
      ],
      "execution_count": 0,
      "outputs": []
    },
    {
      "cell_type": "code",
      "metadata": {
        "id": "-LCgEiKv6Jxb",
        "colab_type": "code",
        "colab": {}
      },
      "source": [
        "features = np.concatenate((features , np.ones((features.shape[0] , 1))) , axis = 1)"
      ],
      "execution_count": 0,
      "outputs": []
    },
    {
      "cell_type": "code",
      "metadata": {
        "id": "JL-4mlUf_8TR",
        "colab_type": "code",
        "colab": {}
      },
      "source": [
        "print(features[0,:])"
      ],
      "execution_count": 0,
      "outputs": []
    },
    {
      "cell_type": "code",
      "metadata": {
        "id": "zZR8BAvfllgC",
        "colab_type": "code",
        "colab": {
          "base_uri": "https://localhost:8080/",
          "height": 34
        },
        "outputId": "126e041c-e7a4-40e7-e98a-bd9bbb87c43a"
      },
      "source": [
        "n = features.shape[1] # size of individual\n",
        "m = 200 # size of population\n",
        "n_generations = 2000 # number of generations\n",
        "\n",
        "print(n)"
      ],
      "execution_count": 29,
      "outputs": [
        {
          "output_type": "stream",
          "text": [
            "14\n"
          ],
          "name": "stdout"
        }
      ]
    },
    {
      "cell_type": "code",
      "metadata": {
        "id": "mirl84Wqj1eb",
        "colab_type": "code",
        "colab": {}
      },
      "source": [
        "def generate_random_value(bound = 100):\n",
        "    return random.random()*bound"
      ],
      "execution_count": 0,
      "outputs": []
    },
    {
      "cell_type": "code",
      "metadata": {
        "id": "3vjlQ_yikb0R",
        "colab_type": "code",
        "colab": {}
      },
      "source": [
        "def compute_loss(individual):\n",
        "    estimated_prices =  []\n",
        "    for feature in features:\n",
        "        estimated_price = sum([c*x for c,x in zip(feature , individual)])\n",
        "        estimated_prices.append(estimated_price)\n",
        "    losses = [abs(y_est - y_gt) for y_est , y_gt in zip(estimated_prices, prices)]\n",
        "    return sum(losses)  "
      ],
      "execution_count": 0,
      "outputs": []
    },
    {
      "cell_type": "code",
      "metadata": {
        "id": "qF9AnSwvkoNp",
        "colab_type": "code",
        "colab": {}
      },
      "source": [
        "def compute_fitness(individual):\n",
        "    loss = compute_loss(individual)\n",
        "    fitness = 1/(loss+1)\n",
        "    return fitness"
      ],
      "execution_count": 0,
      "outputs": []
    },
    {
      "cell_type": "code",
      "metadata": {
        "id": "mCVzrBI_k-TA",
        "colab_type": "code",
        "colab": {}
      },
      "source": [
        "def create_individual():\n",
        "     return [generate_random_value() for _ in range(n)]"
      ],
      "execution_count": 0,
      "outputs": []
    },
    {
      "cell_type": "code",
      "metadata": {
        "id": "XUE-UlK3lYnJ",
        "colab_type": "code",
        "colab": {}
      },
      "source": [
        "def crossover(individual1, individual2, crossover_rate = 0.9):\n",
        "    individual1_n = individual1.copy()\n",
        "    individual2_n = individual2.copy()\n",
        "    for i in range(n):\n",
        "        if random.random() < crossover_rate :\n",
        "            individual1_n[i] = individual2[i]\n",
        "            individual2_n[i] = individual1[i]\n",
        "    return individual1_n , individual2_n"
      ],
      "execution_count": 0,
      "outputs": []
    },
    {
      "cell_type": "code",
      "metadata": {
        "id": "9oBq7ooSmuXF",
        "colab_type": "code",
        "colab": {}
      },
      "source": [
        "def mutate(individual , mutate_rate = 0.05):\n",
        "    individual_n = individual.copy()\n",
        "    for i in range (n):\n",
        "        if random.random() < mutate_rate:\n",
        "            individual_n[i] = generate_random_value()\n",
        "    return individual_n "
      ],
      "execution_count": 0,
      "outputs": []
    },
    {
      "cell_type": "code",
      "metadata": {
        "id": "M6N4bK68nhiE",
        "colab_type": "code",
        "colab": {}
      },
      "source": [
        "def selection(sorted_old_population):\n",
        "    index1 = random.randint(0,m-1)\n",
        "    while True:\n",
        "        index2 = random.randint(0,m-1)\n",
        "        if index2 != index1 :\n",
        "            break\n",
        "    individual_s = sorted_old_population[index1]\n",
        "    if index2 > index1:\n",
        "        individual_s = sorted_old_population[index2]\n",
        "\n",
        "    return individual_s"
      ],
      "execution_count": 0,
      "outputs": []
    },
    {
      "cell_type": "code",
      "metadata": {
        "id": "HrbP_U5vnnK4",
        "colab_type": "code",
        "colab": {}
      },
      "source": [
        "def create_new_population(old_population , elitism = 2  , gen = 1):\n",
        "    sorted_population = sorted(old_population , key = compute_fitness)\n",
        "    # print(sorted_population)\n",
        "    if gen%200 == 0:\n",
        "        print('Best loss= ', compute_loss(sorted_population[m-1]))\n",
        "    losses.append(compute_loss(sorted_population[m-1]))\n",
        "    new_population = []\n",
        "\n",
        "    while len(new_population) < m - elitism:\n",
        "        # selection\n",
        "        individual_s1 = selection(sorted_population)\n",
        "        individual_s2 = selection(sorted_population)\n",
        "        # crossover\n",
        "        individual_n1, individual_n2 = crossover(individual_s1 , individual_s2)\n",
        "        # mutate\n",
        "        individual_c1 = mutate(individual_n1)\n",
        "        individual_c2 = mutate(individual_n2)\n",
        "        new_population.append(individual_c1)\n",
        "        new_population.append(individual_c2)\n",
        "    for ind in sorted_population[m-elitism:]:\n",
        "        new_population.append(ind.copy()) \n",
        "    return new_population"
      ],
      "execution_count": 0,
      "outputs": []
    },
    {
      "cell_type": "code",
      "metadata": {
        "id": "GXbQneNRpHJ3",
        "colab_type": "code",
        "outputId": "5f7ba934-ecfb-439d-be99-b9327afd295b",
        "colab": {
          "base_uri": "https://localhost:8080/",
          "height": 439
        }
      },
      "source": [
        "population = [create_individual() for _ in range(m)]\n",
        "losses = []\n",
        "for i in range(n_generations):\n",
        "    m = len(population)\n",
        "    population = create_new_population(population, 2,i )\n",
        "\n",
        "import matplotlib.pyplot as plt \n",
        "plt.plot([i for i in range(n_generations)] , losses)\n",
        "plt.show()"
      ],
      "execution_count": 38,
      "outputs": [
        {
          "output_type": "stream",
          "text": [
            "Best loss=  3742684.250755915\n",
            "Best loss=  47740.64261458065\n",
            "Best loss=  20962.871228867105\n",
            "Best loss=  11104.844633397384\n",
            "Best loss=  3513.1011676780117\n",
            "Best loss=  3120.6565521829007\n",
            "Best loss=  2598.850618565062\n",
            "Best loss=  2596.3781310645263\n",
            "Best loss=  2550.5105562379836\n",
            "Best loss=  2257.4675635408153\n"
          ],
          "name": "stdout"
        },
        {
          "output_type": "display_data",
          "data": {
            "image/png": "[encoded data removed]",
            "text/plain": [
              "<Figure size 432x288 with 1 Axes>"
            ]
          },
          "metadata": {
            "tags": []
          }
        }
      ]
    },
    {
      "cell_type": "code",
      "metadata": {
        "id": "f4TZlWDU9ya9",
        "colab_type": "code",
        "colab": {}
      },
      "source": [
        "def predict(area):\n",
        "    area = np.array(area)\n",
        "    result = []\n",
        "    for i in area:\n",
        "        result.append(sum(np.dot(area, population[m-1])))\n",
        "    return result     "
      ],
      "execution_count": 0,
      "outputs": []
    },
    {
      "cell_type": "code",
      "metadata": {
        "id": "Lb_m2KhB-G0S",
        "colab_type": "code",
        "outputId": "a07897aa-5f38-4507-ba49-149e2b589bb9",
        "colab": {
          "base_uri": "https://localhost:8080/",
          "height": 34
        }
      },
      "source": [
        "area = [features[0]]\n",
        "print('Gia tri du doan la : ', predict(area))"
      ],
      "execution_count": 43,
      "outputs": [
        {
          "output_type": "stream",
          "text": [
            "Gia tri du doan la :  [20.770177102455094]\n"
          ],
          "name": "stdout"
        }
      ]
    },
    {
      "cell_type": "code",
      "metadata": {
        "id": "19dDjW9m-jpu",
        "colab_type": "code",
        "colab": {
          "base_uri": "https://localhost:8080/",
          "height": 432
        },
        "outputId": "866cc303-3864-48f0-b8fe-2399a85cf6cc"
      },
      "source": [
        "sorted_population = sorted(population , key = compute_fitness)\n",
        "print(sorted_population[m-1])\n",
        "individual = sorted_population[m-1]\n",
        "estimated_prices = []\n",
        "for feature in features :\n",
        "    estimated_price = sum(x*c for x ,c  in zip(feature , individual))\n",
        "    estimated_prices.append(estimated_price)\n",
        "losses = [abs(y_est- y_gt)  for y_est , y_gt in zip(estimated_prices , prices)]\n",
        "print(sum(losses))\n",
        "\n",
        "fig , ax = plt.subplots(figsize = (10,6))\n",
        "plt.plot(prices , c  = 'g')\n",
        "plt.plot(estimated_prices , c = 'b')\n",
        "plt.show()"
      ],
      "execution_count": 41,
      "outputs": [
        {
          "output_type": "stream",
          "text": [
            "[0.03612012164329048, 0.1340034034908677, 0.12637339648899903, 6.426184784862454, 0.0004329722818940951, 0.21763144729305406, 0.05721590223547457, 1.6459916032161792, 0.009187855256942434, 0.004503953739509736, 0.03460413453112432, 0.010074522655478813, 0.02534089420674901, 0.17564571102731685]\n",
            "2240.25654230229\n"
          ],
          "name": "stdout"
        },
        {
          "output_type": "display_data",
          "data": {
            "image/png": "[encoded data removed]",
            "text/plain": [
              "<Figure size 720x432 with 1 Axes>"
            ]
          },
          "metadata": {
            "tags": []
          }
        }
      ]
    }
  ]
}