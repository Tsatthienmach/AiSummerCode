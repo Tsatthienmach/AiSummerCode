{
  "nbformat": 4,
  "nbformat_minor": 0,
  "metadata": {
    "colab": {
      "name": "Boston_house.ipynb",
      "version": "0.3.2",
      "provenance": [],
      "collapsed_sections": [],
      "include_colab_link": true
    },
    "kernelspec": {
      "name": "python3",
      "display_name": "Python 3"
    },
    "accelerator": "GPU"
  },
  "cells": [
    {
      "cell_type": "markdown",
      "metadata": {
        "id": "view-in-github",
        "colab_type": "text"
      },
      "source": [
        "<a href=\"https://colab.research.google.com/github/Tsatthienmach/AiSummerCode/blob/master/week4/knapsack.ipynb\" target=\"_parent\"><img src=\"https://colab.research.google.com/assets/colab-badge.svg\" alt=\"Open In Colab\"/></a>"
      ]
    },
    {
      "cell_type": "code",
      "metadata": {
        "id": "ZvDRPOu06b0M",
        "colab_type": "code",
        "colab": {}
      },
      "source": [
        "import random\n",
        "\n",
        "n = 12    # so luong vat\n",
        "m = 1000  # so luong ca the trong quan the\n",
        "n_generations = 1000 # so doi\n",
        "fitnesses = []  # de ve do thi fitnesses\n",
        "max_weight = 70 # khối lượng tối đa cái túi có thể đựng được"
      ],
      "execution_count": 0,
      "outputs": []
    },
    {
      "cell_type": "code",
      "metadata": {
        "id": "82FZAbiXLlqh",
        "colab_type": "code",
        "colab": {}
      },
      "source": [
        "# cho truoc du lieu\n",
        "weights = [1, 2, 5, 7, 10, 12, 15, 23, 32, 33, 35, 37]  # can nang cac vat\n",
        "prices =  [1, 3, 6, 7, 12, 15, 25, 32, 44, 45, 47, 50]  # gia tri cua cac vat tuong ung\n"
      ],
      "execution_count": 0,
      "outputs": []
    },
    {
      "cell_type": "code",
      "metadata": {
        "id": "mirl84Wqj1eb",
        "colab_type": "code",
        "colab": {}
      },
      "source": [
        "def generate_random_value():\n",
        "    return random.randint(0,1)"
      ],
      "execution_count": 0,
      "outputs": []
    },
    {
      "cell_type": "code",
      "metadata": {
        "id": "qF9AnSwvkoNp",
        "colab_type": "code",
        "colab": {}
      },
      "source": [
        "def compute_fitness(individual):\n",
        "    fitness = sum(c*x for c , x in zip(individual , prices))\n",
        "    # Kiem tra xem individual co vuot qa khoi luong khong\n",
        "    if compute_weight(individual ) > max_weight:\n",
        "        # penalty\n",
        "        fitness /= 1000    \n",
        "    return fitness"
      ],
      "execution_count": 0,
      "outputs": []
    },
    {
      "cell_type": "code",
      "metadata": {
        "id": "RLQHcadrMdB7",
        "colab_type": "code",
        "colab": {}
      },
      "source": [
        "def compute_weight(individual):\n",
        "    return sum(c*x for c , x in zip(individual , weights))"
      ],
      "execution_count": 0,
      "outputs": []
    },
    {
      "cell_type": "code",
      "metadata": {
        "id": "mCVzrBI_k-TA",
        "colab_type": "code",
        "colab": {}
      },
      "source": [
        "def create_individual():\n",
        "     return [generate_random_value() for _ in range(n)]"
      ],
      "execution_count": 0,
      "outputs": []
    },
    {
      "cell_type": "code",
      "metadata": {
        "id": "XUE-UlK3lYnJ",
        "colab_type": "code",
        "colab": {}
      },
      "source": [
        "def crossover(individual1, individual2, crossover_rate = 0.9):\n",
        "    individual1_n = individual1.copy()\n",
        "    individual2_n = individual2.copy()\n",
        "    if random.random() < crossover_rate:\n",
        "        index = random.randint(1,n-2)\n",
        "        for i in range(index):\n",
        "            individual1_n[i] = individual2[i]\n",
        "            individual2_n[i] = individual1[i]\n",
        "    return individual1_n , individual2_n"
      ],
      "execution_count": 0,
      "outputs": []
    },
    {
      "cell_type": "code",
      "metadata": {
        "id": "9oBq7ooSmuXF",
        "colab_type": "code",
        "colab": {}
      },
      "source": [
        "def mutate(individual , mutate_rate = 0.05):\n",
        "    individual_n = individual.copy()\n",
        "    if random.random() < mutate_rate:\n",
        "        index = random.randint(0,n-1)     \n",
        "        individual_n[index] = generate_random_value()\n",
        "    return individual_n "
      ],
      "execution_count": 0,
      "outputs": []
    },
    {
      "cell_type": "code",
      "metadata": {
        "id": "M6N4bK68nhiE",
        "colab_type": "code",
        "colab": {}
      },
      "source": [
        "def selection(sorted_old_population):\n",
        "    index1 = random.randint(0,m-1)\n",
        "    while True:\n",
        "        index2 = random.randint(0,m-1)\n",
        "        if index2 != index1 :\n",
        "            break\n",
        "    individual_s = sorted_old_population[index1]\n",
        "    if index2 > index1:\n",
        "        individual_s = sorted_old_population[index2]\n",
        "\n",
        "    return individual_s"
      ],
      "execution_count": 0,
      "outputs": []
    },
    {
      "cell_type": "code",
      "metadata": {
        "id": "HrbP_U5vnnK4",
        "colab_type": "code",
        "colab": {}
      },
      "source": [
        "# tao quan the moi\n",
        "def create_new_population(old_popuation):\n",
        "    sorted_old_popuation = sorted(old_popuation, key = compute_fitness)\n",
        "    fitnesses.append(compute_fitness(sorted_old_popuation[-1]))\n",
        "    #print('fitness', fitnesses[-1])\n",
        "\n",
        "    new_population = []\n",
        "    while len(new_population) < m - 2:\n",
        "        # chon loc\n",
        "        individual1 = selection(sorted_old_popuation)\n",
        "        individual2 = selection(sorted_old_popuation)\n",
        "\n",
        "        # lai ghep\n",
        "        individual_c1, individual_c2 = crossover(individual1, individual2)\n",
        "\n",
        "        # dot bien\n",
        "        individual_m1 = mutate(individual_c1)\n",
        "        individual_m2 = mutate(individual_c2)\n",
        "\n",
        "        # cho vao quan the moi\n",
        "        new_population.append(individual_m1)\n",
        "        new_population.append(individual_m2)\n",
        "        \n",
        "    new_population.append(sorted_old_popuation[-1])\n",
        "    new_population.append(sorted_old_popuation[-2])\n",
        "\n",
        "    return new_population\n"
      ],
      "execution_count": 0,
      "outputs": []
    },
    {
      "cell_type": "code",
      "metadata": {
        "id": "GXbQneNRpHJ3",
        "colab_type": "code",
        "outputId": "885d9460-6514-41da-d707-80c5aee42496",
        "colab": {
          "base_uri": "https://localhost:8080/",
          "height": 68
        }
      },
      "source": [
        "# tao quan the ban dau\n",
        "population = [create_individual() for _ in range(m)]\n",
        "\n",
        "for _ in range(n_generations):\n",
        "    population = create_new_population(population)\n",
        "\n",
        "sorted_population = sorted(population, key = compute_fitness)\n",
        "print('cach cho do vao: ', sorted_population[-1])\n",
        "print('khoi luong: ', compute_weight(sorted_population[-1]))\n",
        "print('gia tri: ', compute_fitness(sorted_population[-1]))"
      ],
      "execution_count": 20,
      "outputs": [
        {
          "output_type": "stream",
          "text": [
            "cach cho do vao:  [0, 0, 0, 0, 0, 0, 1, 1, 1, 0, 0, 0]\n",
            "khoi luong:  70\n",
            "gia tri:  101\n"
          ],
          "name": "stdout"
        }
      ]
    }
  ]
}