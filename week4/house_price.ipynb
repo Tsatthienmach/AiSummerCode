{
  "nbformat": 4,
  "nbformat_minor": 0,
  "metadata": {
    "colab": {
      "name": "house_price.ipynb",
      "version": "0.3.2",
      "provenance": [],
      "collapsed_sections": [],
      "include_colab_link": true
    },
    "kernelspec": {
      "name": "python3",
      "display_name": "Python 3"
    },
    "accelerator": "GPU"
  },
  "cells": [
    {
      "cell_type": "markdown",
      "metadata": {
        "id": "view-in-github",
        "colab_type": "text"
      },
      "source": [
        "<a href=\"https://colab.research.google.com/github/Tsatthienmach/AiSummerCode/blob/master/week4/house_price.ipynb\" target=\"_parent\"><img src=\"https://colab.research.google.com/assets/colab-badge.svg\" alt=\"Open In Colab\"/></a>"
      ]
    },
    {
      "cell_type": "code",
      "metadata": {
        "id": "ZvDRPOu06b0M",
        "colab_type": "code",
        "colab": {}
      },
      "source": [
        "import pandas as pd\n",
        "import random\n",
        "import matplotlib.pyplot as plt\n"
      ],
      "execution_count": 0,
      "outputs": []
    },
    {
      "cell_type": "code",
      "metadata": {
        "id": "4ZmSSatyoRYC",
        "colab_type": "code",
        "colab": {
          "base_uri": "https://localhost:8080/",
          "height": 170
        },
        "outputId": "427abe4e-187e-44e1-a120-8e08c1efb954"
      },
      "source": [
        "# Clone the entire repo.\n",
        "!git clone -l -s https://github.com/Tsatthienmach/AiSummerCode.git cloned-repo\n",
        "%cd cloned-repo\n",
        "!ls"
      ],
      "execution_count": 22,
      "outputs": [
        {
          "output_type": "stream",
          "text": [
            "Cloning into 'cloned-repo'...\n",
            "warning: --local is ignored\n",
            "remote: Enumerating objects: 31, done.\u001b[K\n",
            "remote: Counting objects:   3% (1/31)\u001b[K\rremote: Counting objects:   6% (2/31)\u001b[K\rremote: Counting objects:   9% (3/31)\u001b[K\rremote: Counting objects:  12% (4/31)\u001b[K\rremote: Counting objects:  16% (5/31)\u001b[K\rremote: Counting objects:  19% (6/31)\u001b[K\rremote: Counting objects:  22% (7/31)\u001b[K\rremote: Counting objects:  25% (8/31)\u001b[K\rremote: Counting objects:  29% (9/31)\u001b[K\rremote: Counting objects:  32% (10/31)\u001b[K\rremote: Counting objects:  35% (11/31)\u001b[K\rremote: Counting objects:  38% (12/31)\u001b[K\rremote: Counting objects:  41% (13/31)\u001b[K\rremote: Counting objects:  45% (14/31)\u001b[K\rremote: Counting objects:  48% (15/31)\u001b[K\rremote: Counting objects:  51% (16/31)\u001b[K\rremote: Counting objects:  54% (17/31)\u001b[K\rremote: Counting objects:  58% (18/31)\u001b[K\rremote: Counting objects:  61% (19/31)\u001b[K\rremote: Counting objects:  64% (20/31)\u001b[K\rremote: Counting objects:  67% (21/31)\u001b[K\rremote: Counting objects:  70% (22/31)\u001b[K\rremote: Counting objects:  74% (23/31)\u001b[K\rremote: Counting objects:  77% (24/31)\u001b[K\rremote: Counting objects:  80% (25/31)\u001b[K\rremote: Counting objects:  83% (26/31)\u001b[K\rremote: Counting objects:  87% (27/31)\u001b[K\rremote: Counting objects:  90% (28/31)\u001b[K\rremote: Counting objects:  93% (29/31)\u001b[K\rremote: Counting objects:  96% (30/31)\u001b[K\rremote: Counting objects: 100% (31/31)\u001b[K\rremote: Counting objects: 100% (31/31), done.\u001b[K\n",
            "remote: Compressing objects:   4% (1/25)\u001b[K\rremote: Compressing objects:   8% (2/25)\u001b[K\rremote: Compressing objects:  12% (3/25)\u001b[K\rremote: Compressing objects:  16% (4/25)\u001b[K\rremote: Compressing objects:  20% (5/25)\u001b[K\rremote: Compressing objects:  24% (6/25)\u001b[K\rremote: Compressing objects:  28% (7/25)\u001b[K\rremote: Compressing objects:  32% (8/25)\u001b[K\rremote: Compressing objects:  36% (9/25)\u001b[K\rremote: Compressing objects:  40% (10/25)\u001b[K\rremote: Compressing objects:  44% (11/25)\u001b[K\rremote: Compressing objects:  48% (12/25)\u001b[K\rremote: Compressing objects:  52% (13/25)\u001b[K\rremote: Compressing objects:  56% (14/25)\u001b[K\rremote: Compressing objects:  60% (15/25)\u001b[K\rremote: Compressing objects:  64% (16/25)\u001b[K\rremote: Compressing objects:  68% (17/25)\u001b[K\rremote: Compressing objects:  72% (18/25)\u001b[K\rremote: Compressing objects:  76% (19/25)\u001b[K\rremote: Compressing objects:  80% (20/25)\u001b[K\rremote: Compressing objects:  84% (21/25)\u001b[K\rremote: Compressing objects:  88% (22/25)\u001b[K\rremote: Compressing objects:  92% (23/25)\u001b[K\rremote: Compressing objects:  96% (24/25)\u001b[K\rremote: Compressing objects: 100% (25/25)\u001b[K\rremote: Compressing objects: 100% (25/25), done.\u001b[K\n",
            "Unpacking objects:   3% (1/31)   \rUnpacking objects:   6% (2/31)   \rUnpacking objects:   9% (3/31)   \rUnpacking objects:  12% (4/31)   \rUnpacking objects:  16% (5/31)   \rUnpacking objects:  19% (6/31)   \rUnpacking objects:  22% (7/31)   \rUnpacking objects:  25% (8/31)   \rUnpacking objects:  29% (9/31)   \rUnpacking objects:  32% (10/31)   \rUnpacking objects:  35% (11/31)   \rUnpacking objects:  38% (12/31)   \rUnpacking objects:  41% (13/31)   \rUnpacking objects:  45% (14/31)   \rUnpacking objects:  48% (15/31)   \rremote: Total 31 (delta 5), reused 0 (delta 0), pack-reused 0\u001b[K\n",
            "Unpacking objects:  51% (16/31)   \rUnpacking objects:  54% (17/31)   \rUnpacking objects:  58% (18/31)   \rUnpacking objects:  61% (19/31)   \rUnpacking objects:  64% (20/31)   \rUnpacking objects:  67% (21/31)   \rUnpacking objects:  70% (22/31)   \rUnpacking objects:  74% (23/31)   \rUnpacking objects:  77% (24/31)   \rUnpacking objects:  80% (25/31)   \rUnpacking objects:  83% (26/31)   \rUnpacking objects:  87% (27/31)   \rUnpacking objects:  90% (28/31)   \rUnpacking objects:  93% (29/31)   \rUnpacking objects:  96% (30/31)   \rUnpacking objects: 100% (31/31)   \rUnpacking objects: 100% (31/31), done.\n",
            "/content/cloned-repo/cloned-repo\n",
            "_config.yml  documentations  README.md\tweek2  week4\n"
          ],
          "name": "stdout"
        }
      ]
    },
    {
      "cell_type": "code",
      "metadata": {
        "id": "hexxgMLZ4-eM",
        "colab_type": "code",
        "outputId": "30d8b62e-c78c-4178-fc2f-b5d7c8cee6d1",
        "colab": {
          "base_uri": "https://localhost:8080/",
          "height": 204
        }
      },
      "source": [
        "data = pd.read_csv('/content/cloned-repo/week4/data.csv'  , header=None )\n",
        "print(data)"
      ],
      "execution_count": 23,
      "outputs": [
        {
          "output_type": "stream",
          "text": [
            "      0     1\n",
            "0  6.71  9.12\n",
            "1  1.20  2.43\n",
            "2  1.86  2.91\n",
            "3  2.09  3.41\n",
            "4  3.05  4.71\n",
            "5  4.69  5.94\n",
            "6  3.57  5.40\n",
            "7  5.55  7.04\n",
            "8  2.39  3.38\n",
            "9  3.94  5.29\n"
          ],
          "name": "stdout"
        }
      ]
    },
    {
      "cell_type": "code",
      "metadata": {
        "id": "FRqylNA56d0C",
        "colab_type": "code",
        "outputId": "f1ca7b0b-d39c-47d4-8102-eff133a94613",
        "colab": {
          "base_uri": "https://localhost:8080/",
          "height": 283
        }
      },
      "source": [
        "data_len = len(data)\n",
        "plt.scatter(data[0],data[1] , marker = 'o')\n",
        "plt.xlabel('Dien tich nha (x100m2)')\n",
        "plt.ylabel('Gia nha (Chuc luong vang)')\n",
        "plt.show()"
      ],
      "execution_count": 24,
      "outputs": [
        {
          "output_type": "display_data",
          "data": {
            "image/png": "[encoded data removed]",
            "text/plain": [
              "<Figure size 432x288 with 1 Axes>"
            ]
          },
          "metadata": {
            "tags": []
          }
        }
      ]
    },
    {
      "cell_type": "code",
      "metadata": {
        "id": "37_zQzeM8tT3",
        "colab_type": "code",
        "outputId": "a9ae8d6a-048e-42de-86b8-6e71cacad596",
        "colab": {
          "base_uri": "https://localhost:8080/",
          "height": 34
        }
      },
      "source": [
        "def load_data():\n",
        "    file = open('/content/cloned-repo/week4/data.csv' , 'r')\n",
        "    lines = file.readlines()\n",
        "    file.close()\n",
        "    areas =[]\n",
        "    prices = []\n",
        "    for i in range(len(lines)):\n",
        "        string = lines[i].split(',')\n",
        "        areas.append(float(string[0]))\n",
        "        prices.append(float(string[1]))\n",
        "    return areas , prices\n",
        "areas , prices = load_data()\n",
        "print(areas)"
      ],
      "execution_count": 25,
      "outputs": [
        {
          "output_type": "stream",
          "text": [
            "[6.71, 1.2, 1.86, 2.09, 3.05, 4.69, 3.57, 5.55, 2.39, 3.94]\n"
          ],
          "name": "stdout"
        }
      ]
    },
    {
      "cell_type": "code",
      "metadata": {
        "id": "mirl84Wqj1eb",
        "colab_type": "code",
        "colab": {}
      },
      "source": [
        "def generate_random_value(bound = 100):\n",
        "    return (random.random()*2-1)*bound"
      ],
      "execution_count": 0,
      "outputs": []
    },
    {
      "cell_type": "code",
      "metadata": {
        "id": "3vjlQ_yikb0R",
        "colab_type": "code",
        "colab": {}
      },
      "source": [
        "def compute_loss(individual):\n",
        "    a = individual[0]\n",
        "    b = individual[1]\n",
        "    estimated_prices = [a*x + b for x in areas]\n",
        "    estimated_prices = [abs(x) for x in estimated_prices]\n",
        "    losses = [abs(y_est - y_gt) for y_est , y_gt in zip(estimated_prices, prices)]\n",
        "    return sum(losses)  "
      ],
      "execution_count": 0,
      "outputs": []
    },
    {
      "cell_type": "code",
      "metadata": {
        "id": "qF9AnSwvkoNp",
        "colab_type": "code",
        "colab": {}
      },
      "source": [
        "def compute_fitness(individual):\n",
        "    loss = compute_loss(individual)\n",
        "    fitness = 1/(loss+1)\n",
        "    return fitness"
      ],
      "execution_count": 0,
      "outputs": []
    },
    {
      "cell_type": "code",
      "metadata": {
        "id": "mCVzrBI_k-TA",
        "colab_type": "code",
        "colab": {}
      },
      "source": [
        "def create_individual():\n",
        "     return [generate_random_value() for _ in range(n)]"
      ],
      "execution_count": 0,
      "outputs": []
    },
    {
      "cell_type": "code",
      "metadata": {
        "id": "XUE-UlK3lYnJ",
        "colab_type": "code",
        "colab": {}
      },
      "source": [
        "def crossover(individual1, individual2, crossover_rate = 0.9):\n",
        "    individual1_n = individual1.copy()\n",
        "    individual2_n = individual2.copy()\n",
        "    for i in range(n):\n",
        "        if random.random() < crossover_rate :\n",
        "            individual1_n[i] = individual2[i]\n",
        "            individual2_n[i] = individual1[i]\n",
        "    return individual1_n , individual2_n"
      ],
      "execution_count": 0,
      "outputs": []
    },
    {
      "cell_type": "code",
      "metadata": {
        "id": "9oBq7ooSmuXF",
        "colab_type": "code",
        "colab": {}
      },
      "source": [
        "def mutate(individual , mutate_rate = 0.05):\n",
        "    individual_n = individual.copy()\n",
        "    for i in range (n):\n",
        "        if random.random() < mutate_rate:\n",
        "            individual_n[i] = generate_random_value()\n",
        "    return individual_n "
      ],
      "execution_count": 0,
      "outputs": []
    },
    {
      "cell_type": "code",
      "metadata": {
        "id": "M6N4bK68nhiE",
        "colab_type": "code",
        "colab": {}
      },
      "source": [
        "def selection(sorted_old_population):\n",
        "    index1 = random.randint(0,m-1)\n",
        "    while True:\n",
        "        index2 = random.randint(0,m-1)\n",
        "        if index2 != index1 :\n",
        "            break\n",
        "    individual_s = sorted_old_population[index1]\n",
        "    if index2 > index1:\n",
        "        individual_s = sorted_old_population[index2]\n",
        "\n",
        "    return individual_s"
      ],
      "execution_count": 0,
      "outputs": []
    },
    {
      "cell_type": "code",
      "metadata": {
        "id": "HrbP_U5vnnK4",
        "colab_type": "code",
        "colab": {}
      },
      "source": [
        "def create_new_population(old_population , elitism = 2  , gen = 1):\n",
        "    sorted_population = sorted(old_population , key = compute_fitness)\n",
        "    # print(sorted_population)\n",
        "    if gen%1 == 0:\n",
        "        losses.append(compute_loss(sorted_population[m-1]))\n",
        "        print('Best loss= ', compute_loss(sorted_population[m-1]))\n",
        "\n",
        "    new_population = []\n",
        "\n",
        "    while len(new_population) < m - elitism:\n",
        "        # selection\n",
        "        individual_s1 = selection(sorted_population)\n",
        "        individual_s2 = selection(sorted_population)\n",
        "        # crossover\n",
        "        individual_n1, individual_n2 = crossover(individual_s1 , individual_s2)\n",
        "        # mutate\n",
        "        individual_c1 = mutate(individual_n1)\n",
        "        individual_c2 = mutate(individual_n2)\n",
        "        new_population.append(individual_c1)\n",
        "        new_population.append(individual_c2)\n",
        "    for ind in sorted_population[m-elitism:]:\n",
        "        new_population.append(ind.copy()) \n",
        "    return new_population"
      ],
      "execution_count": 0,
      "outputs": []
    },
    {
      "cell_type": "code",
      "metadata": {
        "id": "zZR8BAvfllgC",
        "colab_type": "code",
        "colab": {}
      },
      "source": [
        "n = 2 # size of individual\n",
        "m = 100 # size of population\n",
        "n_generations = 100 # number of generations"
      ],
      "execution_count": 0,
      "outputs": []
    },
    {
      "cell_type": "code",
      "metadata": {
        "id": "GXbQneNRpHJ3",
        "colab_type": "code",
        "outputId": "4406eea2-4059-4328-b3f5-0d75daff84f8",
        "colab": {
          "base_uri": "https://localhost:8080/",
          "height": 1000
        }
      },
      "source": [
        "population = [create_individual() for _ in range(m)]\n",
        "losses = []\n",
        "for i in range(n_generations):\n",
        "    m = len(population)\n",
        "    population = create_new_population(population, 2,i )\n",
        "\n",
        "import matplotlib.pyplot as plt \n",
        "plt.plot([i for i in range(n_generations)] , losses)\n",
        "plt.show()"
      ],
      "execution_count": 35,
      "outputs": [
        {
          "output_type": "stream",
          "text": [
            "Best loss=  99.38128587273678\n",
            "Best loss=  99.38128587273678\n",
            "Best loss=  99.38128587273678\n",
            "Best loss=  35.27081233892612\n",
            "Best loss=  35.27081233892612\n",
            "Best loss=  29.630759220376962\n",
            "Best loss=  29.630759220376962\n",
            "Best loss=  29.630759220376962\n",
            "Best loss=  24.572231955625107\n",
            "Best loss=  24.572231955625107\n",
            "Best loss=  24.572231955625107\n",
            "Best loss=  24.572231955625107\n",
            "Best loss=  24.572231955625107\n",
            "Best loss=  24.572231955625107\n",
            "Best loss=  24.572231955625107\n",
            "Best loss=  24.572231955625107\n",
            "Best loss=  24.572231955625107\n",
            "Best loss=  24.572231955625107\n",
            "Best loss=  16.96877607815621\n",
            "Best loss=  16.96877607815621\n",
            "Best loss=  16.96877607815621\n",
            "Best loss=  16.96877607815621\n",
            "Best loss=  16.96877607815621\n",
            "Best loss=  16.96877607815621\n",
            "Best loss=  16.96877607815621\n",
            "Best loss=  16.96877607815621\n",
            "Best loss=  16.96877607815621\n",
            "Best loss=  16.96877607815621\n",
            "Best loss=  16.96877607815621\n",
            "Best loss=  16.96877607815621\n",
            "Best loss=  16.96877607815621\n",
            "Best loss=  16.96877607815621\n",
            "Best loss=  16.96877607815621\n",
            "Best loss=  16.96877607815621\n",
            "Best loss=  16.96877607815621\n",
            "Best loss=  16.96877607815621\n",
            "Best loss=  16.96877607815621\n",
            "Best loss=  16.96877607815621\n",
            "Best loss=  16.96877607815621\n",
            "Best loss=  16.96877607815621\n",
            "Best loss=  16.96877607815621\n",
            "Best loss=  16.96877607815621\n",
            "Best loss=  16.96877607815621\n",
            "Best loss=  16.96877607815621\n",
            "Best loss=  16.96877607815621\n",
            "Best loss=  16.96877607815621\n",
            "Best loss=  16.96877607815621\n",
            "Best loss=  16.96877607815621\n",
            "Best loss=  16.96877607815621\n",
            "Best loss=  16.96877607815621\n",
            "Best loss=  16.96877607815621\n",
            "Best loss=  16.96877607815621\n",
            "Best loss=  16.96877607815621\n",
            "Best loss=  16.96877607815621\n",
            "Best loss=  16.96877607815621\n",
            "Best loss=  16.96877607815621\n",
            "Best loss=  16.96877607815621\n",
            "Best loss=  16.96877607815621\n",
            "Best loss=  16.96877607815621\n",
            "Best loss=  16.96877607815621\n",
            "Best loss=  16.96877607815621\n",
            "Best loss=  16.96877607815621\n",
            "Best loss=  16.96877607815621\n",
            "Best loss=  16.96877607815621\n",
            "Best loss=  16.96877607815621\n",
            "Best loss=  16.96877607815621\n",
            "Best loss=  16.96877607815621\n",
            "Best loss=  16.96877607815621\n",
            "Best loss=  16.96877607815621\n",
            "Best loss=  16.96877607815621\n",
            "Best loss=  16.96877607815621\n",
            "Best loss=  15.676612282821342\n",
            "Best loss=  15.676612282821342\n",
            "Best loss=  15.676612282821342\n",
            "Best loss=  15.676612282821342\n",
            "Best loss=  15.676612282821342\n",
            "Best loss=  15.676612282821342\n",
            "Best loss=  15.676612282821342\n",
            "Best loss=  15.676612282821342\n",
            "Best loss=  15.676612282821342\n",
            "Best loss=  15.676612282821342\n",
            "Best loss=  15.676612282821342\n",
            "Best loss=  15.676612282821342\n",
            "Best loss=  15.338247117147294\n",
            "Best loss=  15.338247117147294\n",
            "Best loss=  15.338247117147294\n",
            "Best loss=  15.338247117147294\n",
            "Best loss=  15.338247117147294\n",
            "Best loss=  15.338247117147294\n",
            "Best loss=  15.338247117147294\n",
            "Best loss=  15.338247117147294\n",
            "Best loss=  15.338247117147294\n",
            "Best loss=  15.338247117147294\n",
            "Best loss=  15.338247117147294\n",
            "Best loss=  15.338247117147294\n",
            "Best loss=  15.338247117147294\n",
            "Best loss=  15.338247117147294\n",
            "Best loss=  15.338247117147294\n",
            "Best loss=  15.338247117147294\n",
            "Best loss=  15.338247117147294\n"
          ],
          "name": "stdout"
        },
        {
          "output_type": "display_data",
          "data": {
            "image/png": "[encoded data removed]",
            "text/plain": [
              "<Figure size 432x288 with 1 Axes>"
            ]
          },
          "metadata": {
            "tags": []
          }
        }
      ]
    }
  ]
}