{
  "nbformat": 4,
  "nbformat_minor": 0,
  "metadata": {
    "colab": {
      "name": "Untitled0.ipynb",
      "version": "0.3.2",
      "provenance": [],
      "collapsed_sections": [],
      "include_colab_link": true
    },
    "kernelspec": {
      "name": "python3",
      "display_name": "Python 3"
    }
  },
  "cells": [
    {
      "cell_type": "markdown",
      "metadata": {
        "id": "view-in-github",
        "colab_type": "text"
      },
      "source": [
        "<a href=\"https://colab.research.google.com/github/Tsatthienmach/AiSummerCode/blob/master/week4/traveling.ipynb\" target=\"_parent\"><img src=\"https://colab.research.google.com/assets/colab-badge.svg\" alt=\"Open In Colab\"/></a>"
      ]
    },
    {
      "cell_type": "code",
      "metadata": {
        "id": "Io0vzMJ6DPZq",
        "colab_type": "code",
        "colab": {}
      },
      "source": [
        "import random\n",
        "\n",
        "n = 5    # so luong thanh pho\n",
        "m = 400  # so luong ca the trong quan the\n",
        "n_generations = 1000 # so vong doi\n",
        "losses = []          # de ve bieu de losses\n"
      ],
      "execution_count": 0,
      "outputs": []
    },
    {
      "cell_type": "code",
      "metadata": {
        "id": "nEIjgZ5PKXDZ",
        "colab_type": "code",
        "colab": {
          "base_uri": "https://localhost:8080/",
          "height": 170
        },
        "outputId": "94eb7203-7fff-4b85-d4d4-cfa6a56c9bbd"
      },
      "source": [
        "# Clone the entire repo.\n",
        "!git clone -l -s https://github.com/Tsatthienmach/AiSummerCode.git cloned-repo\n",
        "%cd cloned-repo\n",
        "!ls"
      ],
      "execution_count": 2,
      "outputs": [
        {
          "output_type": "stream",
          "text": [
            "Cloning into 'cloned-repo'...\n",
            "warning: --local is ignored\n",
            "remote: Enumerating objects: 63, done.\u001b[K\n",
            "remote: Counting objects: 100% (63/63), done.\u001b[K\n",
            "remote: Compressing objects: 100% (57/57), done.\u001b[K\n",
            "remote: Total 63 (delta 21), reused 0 (delta 0), pack-reused 0\u001b[K\n",
            "Unpacking objects: 100% (63/63), done.\n",
            "/content/cloned-repo\n",
            "_config.yml  documentations  README.md\tweek2  week4\n"
          ],
          "name": "stdout"
        }
      ]
    },
    {
      "cell_type": "code",
      "metadata": {
        "id": "fH1cveo2DRS_",
        "colab_type": "code",
        "colab": {
          "base_uri": "https://localhost:8080/",
          "height": 71
        },
        "outputId": "62d9bb48-039f-4597-9785-c051d26cc5fa"
      },
      "source": [
        "\n",
        "# load data\n",
        "def load_data():\n",
        "    map = []\n",
        "    file = open('/content/cloned-repo/week4/data_route.txt', 'r')\n",
        "    lines = file.readlines()\n",
        "    \n",
        "    # bo header\n",
        "    for i in range(1, len(lines)):\n",
        "        strings = lines[i].split(',')\n",
        "        \n",
        "        # bo cot dau tien\n",
        "        prices = [int(s.strip()) for s in strings[1:]]\n",
        "        map.append(prices)\n",
        "    file.close()\n",
        "    return map\n",
        "\n",
        "map = load_data()\n",
        "print('load_data')\n",
        "print(map)\n",
        "\n"
      ],
      "execution_count": 4,
      "outputs": [
        {
          "output_type": "stream",
          "text": [
            "load_data\n",
            "[[1000, 12, 1000, 5, 7], [12, 1000, 14, 1000, 18], [1000, 14, 1000, 6, 19], [5, 1000, 6, 1000, 2], [7, 18, 19, 2, 1000]]\n"
          ],
          "name": "stdout"
        }
      ]
    },
    {
      "cell_type": "code",
      "metadata": {
        "id": "ZjiqjZUaDHPQ",
        "colab_type": "code",
        "colab": {}
      },
      "source": [
        "\n",
        "# tao individual\n",
        "def create_individual():\n",
        "    # list cac thanh pho    \n",
        "    return [random.randint(1,n) for _ in range(n)]\n",
        "\n",
        "# tinh loss\n",
        "def compute_loss(individual):\n",
        "    i = 0\n",
        "    price = 0\n",
        "    while i < n-1:\n",
        "        a = individual[i] - 1\n",
        "        b = individual[i+1] - 1\n",
        "        price += map[a][b]\n",
        "        i += 1\n",
        "    # cong voi quang duong tp cuoi ve tp dau\n",
        "    start = individual[0] - 1\n",
        "    finish = individual[n-1] - 1\n",
        "    price += map[finish][start]\n",
        "    \n",
        "    # Kiem tra xem individual co chua het thanh pho khong\n",
        "    s = set(individual)\n",
        "    \n",
        "    price += ((n-len(s)) * 1000)\n",
        "    # print(s , price)\n",
        "    return price\n",
        "\n",
        "\n",
        "# tinh fitness\n",
        "def compute_fitness(individual):\n",
        "    loss = compute_loss(individual)\n",
        "    return 1 / (1 + loss)\n",
        "\n",
        "# chon loc\n",
        "def selection(sorted_population):\n",
        "    index1 = random.randint(0, m-1)\n",
        "    while True:\n",
        "        index2 = random.randint(0, m-1)\n",
        "        if index2 != index1:\n",
        "            break\n",
        "    individual = sorted_population[index1]\n",
        "    if index2 > index1:\n",
        "        individual = sorted_population[index2]\n",
        "    return individual\n",
        "\n",
        "# lai ghep:\n",
        "def crossover(individual1, individual2, crossover_rate = 0.9):\n",
        "    individual1_new = individual1.copy()\n",
        "    individual2_new = individual2.copy()\n",
        "    \n",
        "    for i in range(n):\n",
        "        if random.random() < crossover_rate:\n",
        "            individual1_new[i] = individual2[i]\n",
        "            individual2_new[i] = individual1[i]            \n",
        "    \n",
        "    return individual1_new, individual2_new\n",
        "\n",
        "# dot bien\n",
        "def mutate(individual, mutation_rate = 0.05):\n",
        "    individual_m = individual.copy()\n",
        "    \n",
        "    for i in range(n):\n",
        "        if random.random() < mutation_rate:\n",
        "            individual_m[i] = random.randint(1,n)\n",
        "        \n",
        "    return individual_m\n",
        "\n",
        "# tao quan the moi\n",
        "def create_new_population(sorted_old_population):\n",
        "    # luu vao losses\n",
        "    losses.append(compute_loss(sorted_old_population[-1]))\n",
        "    \n",
        "    # in cac gia tri tot nhat qua tung doi\n",
        "    # print(losses[-1])\n",
        "    new_population = []\n",
        "    while len(new_population) < m-2:\n",
        "        # chon loc\n",
        "        individual1 = selection(sorted_old_population)\n",
        "        individual2 = selection(sorted_old_population)\n",
        "\n",
        "        # lai ghep\n",
        "        individual_c1, individual_c2 = crossover(individual1, individual2)\n",
        "\n",
        "        # dot bien\n",
        "        individual_m1 = mutate(individual_c1)\n",
        "        individual_m2 = mutate(individual_c2)\n",
        "    \n",
        "        # cho vao quan the moi\n",
        "        new_population.append(individual_m1)\n",
        "        new_population.append(individual_m2)\n",
        "    \n",
        "    # cho 2 con dep nhat cua quan the cu vao quan the moi\n",
        "    new_population.append(sorted_old_population[-1])\n",
        "    new_population.append(sorted_old_population[-2])\n",
        "\n",
        "    return new_population\n"
      ],
      "execution_count": 0,
      "outputs": []
    },
    {
      "cell_type": "code",
      "metadata": {
        "id": "9L1Uds6xDWVX",
        "colab_type": "code",
        "colab": {
          "base_uri": "https://localhost:8080/",
          "height": 34
        },
        "outputId": "a36287af-83b6-43db-a771-6b7c07c026b6"
      },
      "source": [
        "\n",
        "# tao quan the ban dau\n",
        "population = [create_individual() for _ in range(m)]\n",
        "\n",
        "for _ in range(n_generations):\n",
        "    sorted_old_population = sorted(population, key = compute_fitness)\n",
        "    population = create_new_population(sorted_old_population)\n",
        "    \n",
        "# hien thi tuyen duong ngan nhat\n",
        "route_min = sorted_old_population[-1]\n",
        "route_min.append(sorted_old_population[-1][0])\n",
        "print('duong di ngan nhat: ', route_min, 'chi phi: ', losses[-1])"
      ],
      "execution_count": 6,
      "outputs": [
        {
          "output_type": "stream",
          "text": [
            "duong di ngan nhat:  [4, 5, 1, 2, 3, 4] chi phi:  41\n"
          ],
          "name": "stdout"
        }
      ]
    }
  ]
}