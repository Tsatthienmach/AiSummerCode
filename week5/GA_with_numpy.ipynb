{
  "nbformat": 4,
  "nbformat_minor": 0,
  "metadata": {
    "colab": {
      "name": "GA_with_numpy.ipynb",
      "version": "0.3.2",
      "provenance": [],
      "collapsed_sections": [],
      "include_colab_link": true
    },
    "kernelspec": {
      "name": "python3",
      "display_name": "Python 3"
    }
  },
  "cells": [
    {
      "cell_type": "markdown",
      "metadata": {
        "id": "view-in-github",
        "colab_type": "text"
      },
      "source": [
        "<a href=\"https://colab.research.google.com/github/Tsatthienmach/AiSummerCode/blob/master/week5/GA_with_numpy.ipynb\" target=\"_parent\"><img src=\"https://colab.research.google.com/assets/colab-badge.svg\" alt=\"Open In Colab\"/></a>"
      ]
    },
    {
      "cell_type": "code",
      "metadata": {
        "id": "x64hSWEo7GdO",
        "colab_type": "code",
        "colab": {}
      },
      "source": [
        "import numpy as np\n",
        "import matplotlib.pyplot as plt"
      ],
      "execution_count": 0,
      "outputs": []
    },
    {
      "cell_type": "code",
      "metadata": {
        "id": "SygBYZzI7MYc",
        "colab_type": "code",
        "colab": {}
      },
      "source": [
        "n = 10\n",
        "m = 100\n",
        "n_generations = 400"
      ],
      "execution_count": 0,
      "outputs": []
    },
    {
      "cell_type": "code",
      "metadata": {
        "id": "N6gHACpz7Uhc",
        "colab_type": "code",
        "colab": {}
      },
      "source": [
        "# Function that needs to be optimized\n",
        "def sphere_function(x):\n",
        "    return np.sum(x**2 , axis = 1)"
      ],
      "execution_count": 0,
      "outputs": []
    },
    {
      "cell_type": "code",
      "metadata": {
        "id": "8O9VzZxG7lve",
        "colab_type": "code",
        "colab": {}
      },
      "source": [
        "# find non-zero fitness for selection\n",
        "def compute_fitness(pred):\n",
        "    return 1 / (pred + 1)"
      ],
      "execution_count": 0,
      "outputs": []
    },
    {
      "cell_type": "code",
      "metadata": {
        "id": "4N5CPwU875gc",
        "colab_type": "code",
        "colab": {}
      },
      "source": [
        "# nature selection wrt pop's fitness\n",
        "def select(pop , fitness):\n",
        "    #binary selection\n",
        "    idx = np.random.choice(np.arange(m) , size = m , replace= True , p = fitness/fitness.sum())\n",
        "    # print(fitness.sum() ,idx , fitness  ,sep = '\\t', end = '\\n\\n' )\n",
        "    return pop[idx]"
      ],
      "execution_count": 0,
      "outputs": []
    },
    {
      "cell_type": "code",
      "metadata": {
        "id": "QtoWoYnX8ILT",
        "colab_type": "code",
        "colab": {}
      },
      "source": [
        "# mating process (gens crossover)\n",
        "def crossover( s1 , s2 , cr_rate = 0.9):\n",
        "    cr_prob = np.random.rand((n))\n",
        "    cr_mask = cr_prob < cr_rate\n",
        "    # save s1\n",
        "    buffer = s1.copy()\n",
        "    # mating and produce one child\n",
        "    s1[cr_mask] = s2[cr_mask]\n",
        "    s2[cr_mask ] = buffer[cr_mask]\n",
        "    return (s1,s2)"
      ],
      "execution_count": 0,
      "outputs": []
    },
    {
      "cell_type": "code",
      "metadata": {
        "id": "3cxQHZFt-S9Q",
        "colab_type": "code",
        "colab": {}
      },
      "source": [
        "# mutate\n",
        "def mutate(child , boud = 100 , mt_rate  = 0.05):\n",
        "    mt_vector = (np.random.random(size = n) - 0.5) * boud\n",
        "    # print(mt_vector)\n",
        "    mt_prob = np.random.rand((n))\n",
        "    mt_mask = mt_prob < mt_rate\n",
        "    child[mt_mask] = mt_vector[mt_mask]\n",
        "    return child"
      ],
      "execution_count": 0,
      "outputs": []
    },
    {
      "cell_type": "code",
      "metadata": {
        "id": "HVcrJd2JFuDW",
        "colab_type": "code",
        "colab": {}
      },
      "source": [
        "boud = 100\n",
        "pop = (np.random.random(size = (m,n)) - 0.5) * boud\n",
        "# to print losses\n",
        "losses = []\n"
      ],
      "execution_count": 0,
      "outputs": []
    },
    {
      "cell_type": "code",
      "metadata": {
        "id": "vkpxcOY3_kuD",
        "colab_type": "code",
        "colab": {}
      },
      "source": [
        "# initialize the population\n",
        "boud = 100\n",
        "pop = (np.random.random(size = (m,n)) - 0.5) * boud\n",
        "# to print losses\n",
        "losses = []\n",
        "\n",
        "# evolution \n",
        "for g in range( n_generations):\n",
        "    # compute function value\n",
        "    cost_values = sphere_function(pop)\n",
        "\n",
        "    # compute_fitness\n",
        "    fitness = compute_fitness(cost_values)\n",
        "    if g%1 == 0 :\n",
        "        losses.append(np.min(cost_values))\n",
        "    \n",
        "    pop = select(pop , fitness)\n",
        "\n",
        "    parent_pop = pop.copy()\n",
        "\n",
        "    for i in range(m//2 -2):\n",
        "        k1 = np.random.randint(0,m, size = 1)\n",
        "        k2 = np.random.randint(0,m , size = 1)\n",
        "        s1 = parent_pop[k1].copy()[0]\n",
        "        s2 = parent_pop[k2].copy()[0]\n",
        "      \n",
        "        s1 , s2 = crossover(s1 , s2)\n",
        "        s1 = mutate(s1)\n",
        "        s2 = mutate(s2)\n",
        "\n",
        "        # parent is replaces by its child\n",
        "        pop[i*2][:] = s1\n",
        "        pop[i*2+1][:] = s2\n",
        "        # if g == 0 and i == 0 :\n",
        "        #     print(pop[i*2][:])\n",
        "        #     print(pop[i*2])\n",
        "    \n",
        "    # elitism\n",
        "    two_best = fitness.argsort()[-2:]\n",
        "    pop[m-2][:] = parent_pop[two_best[0]].copy()[0]\n",
        "    pop[m-1][:] = parent_pop[two_best[1]].copy()[0]\n"
      ],
      "execution_count": 0,
      "outputs": []
    },
    {
      "cell_type": "code",
      "metadata": {
        "id": "mTx7QJ8hLtw6",
        "colab_type": "code",
        "colab": {
          "base_uri": "https://localhost:8080/",
          "height": 320
        },
        "outputId": "5c714512-7f8d-401c-b1ac-2d7ae58805dc"
      },
      "source": [
        "print(losses[99])\n",
        "print(pop[99])\n",
        "plt.plot(losses[:100])\n",
        "plt.show()"
      ],
      "execution_count": 33,
      "outputs": [
        {
          "output_type": "stream",
          "text": [
            "0.024687963536660557\n",
            "[0.04968698 0.04968698 0.04968698 0.04968698 0.04968698 0.04968698\n",
            " 0.04968698 0.04968698 0.04968698 0.04968698]\n"
          ],
          "name": "stdout"
        },
        {
          "output_type": "display_data",
          "data": {
            "image/png": "[encoded data removed]",
            "text/plain": [
              "<Figure size 432x288 with 1 Axes>"
            ]
          },
          "metadata": {
            "tags": []
          }
        }
      ]
    },
    {
      "cell_type": "code",
      "metadata": {
        "id": "Eh8BB7OdLyi0",
        "colab_type": "code",
        "colab": {}
      },
      "source": [
        ""
      ],
      "execution_count": 0,
      "outputs": []
    }
  ]
}