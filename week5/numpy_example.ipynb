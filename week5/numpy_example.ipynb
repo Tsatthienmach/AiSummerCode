{
  "nbformat": 4,
  "nbformat_minor": 0,
  "metadata": {
    "colab": {
      "name": "GA_with_numpy.ipynb",
      "version": "0.3.2",
      "provenance": [],
      "collapsed_sections": [],
      "include_colab_link": true
    },
    "kernelspec": {
      "name": "python3",
      "display_name": "Python 3"
    }
  },
  "cells": [
    {
      "cell_type": "markdown",
      "metadata": {
        "id": "view-in-github",
        "colab_type": "text"
      },
      "source": [
        "<a href=\"https://colab.research.google.com/github/Tsatthienmach/AiSummerCode/blob/master/week5/numpy_example.ipynb\" target=\"_parent\"><img src=\"https://colab.research.google.com/assets/colab-badge.svg\" alt=\"Open In Colab\"/></a>"
      ]
    },
    {
      "cell_type": "markdown",
      "metadata": {
        "id": "QnJ1f505ImWV",
        "colab_type": "text"
      },
      "source": [
        "# Lay phan tu chung"
      ]
    },
    {
      "cell_type": "code",
      "metadata": {
        "id": "P331IrR8IIz8",
        "colab_type": "code",
        "colab": {}
      },
      "source": [
        "import numpy as np"
      ],
      "execution_count": 0,
      "outputs": []
    },
    {
      "cell_type": "code",
      "metadata": {
        "id": "U5gKN7X2IM0l",
        "colab_type": "code",
        "outputId": "d30246cf-dd32-45c9-f40d-aed777ded0fa",
        "colab": {
          "base_uri": "https://localhost:8080/",
          "height": 102
        }
      },
      "source": [
        "arr1 = np.array([1,2,3,4,5])\n",
        "arr2 = np.array([3,4,5,6,7])\n",
        "print(\"adarray1 and 2\")\n",
        "print(arr1)\n",
        "print(arr2)\n",
        "\n",
        "out = np.intersect1d(arr1  , arr2)\n",
        "print('\\nout ' , out)"
      ],
      "execution_count": 0,
      "outputs": [
        {
          "output_type": "stream",
          "text": [
            "adarray1 and 2\n",
            "[1 2 3 4 5]\n",
            "[3 4 5 6 7]\n",
            "\n",
            "out  [3 4 5]\n"
          ],
          "name": "stdout"
        }
      ]
    },
    {
      "cell_type": "markdown",
      "metadata": {
        "id": "6KGZ32FkI1IX",
        "colab_type": "text"
      },
      "source": [
        "# Từ mảng arr1 xóa  tất cả các phần tử mà có trong mảng arr2"
      ]
    },
    {
      "cell_type": "code",
      "metadata": {
        "id": "DfuB206AIjTo",
        "colab_type": "code",
        "outputId": "3d9bef12-6504-4c8b-eb36-eb567abb8604",
        "colab": {
          "base_uri": "https://localhost:8080/",
          "height": 34
        }
      },
      "source": [
        "arr1 = np.array([2,3,4,5])\n",
        "arr2 = np.array([3,5,7,9])\n",
        "out = np.setdiff1d(arr1 , arr2)\n",
        "print(out)"
      ],
      "execution_count": 0,
      "outputs": [
        {
          "output_type": "stream",
          "text": [
            "[2 4]\n"
          ],
          "name": "stdout"
        }
      ]
    },
    {
      "cell_type": "markdown",
      "metadata": {
        "id": "MRnevh-YJgwB",
        "colab_type": "text"
      },
      "source": [
        "# Lấy các phần tử giống nhau trong 2 mảng"
      ]
    },
    {
      "cell_type": "code",
      "metadata": {
        "id": "Qe7el9CMJmQ8",
        "colab_type": "code",
        "colab": {}
      },
      "source": [
        "arr1 = np.array([3, 4, 5, 6, 7, 8])\n",
        "arr2 = np.array([2, 3, 6, 6, 7, 7])"
      ],
      "execution_count": 0,
      "outputs": []
    },
    {
      "cell_type": "code",
      "metadata": {
        "id": "E8OrbZXeJt60",
        "colab_type": "code",
        "colab": {
          "base_uri": "https://localhost:8080/",
          "height": 34
        },
        "outputId": "b54cd4c0-309e-4b41-bc2b-67bfbb6357c4"
      },
      "source": [
        "index  = np.where(arr1 == arr2)\n",
        "print(index)"
      ],
      "execution_count": 11,
      "outputs": [
        {
          "output_type": "stream",
          "text": [
            "(array([3, 4]),)\n"
          ],
          "name": "stdout"
        }
      ]
    },
    {
      "cell_type": "code",
      "metadata": {
        "id": "jcL6BUOSJ6hC",
        "colab_type": "code",
        "colab": {}
      },
      "source": [
        "print(out)"
      ],
      "execution_count": 0,
      "outputs": []
    },
    {
      "cell_type": "markdown",
      "metadata": {
        "id": "UvVD6xcgLFr9",
        "colab_type": "text"
      },
      "source": [
        "# Tìm giá trị max giữa 2 mảng"
      ]
    },
    {
      "cell_type": "code",
      "metadata": {
        "id": "RmHBfFRYLJki",
        "colab_type": "code",
        "colab": {}
      },
      "source": [
        "arr1 = np.array([3, 4, 5, 6, 7, 8])\n",
        "arr2 = np.array([3, 3, 6, 6, 7, 7])"
      ],
      "execution_count": 0,
      "outputs": []
    },
    {
      "cell_type": "code",
      "metadata": {
        "id": "54MSjcabLM_T",
        "colab_type": "code",
        "colab": {
          "base_uri": "https://localhost:8080/",
          "height": 34
        },
        "outputId": "5859af46-3113-4fe5-9059-1bb974a24d12"
      },
      "source": [
        "# Cach 1:\n",
        "def max_value(x,y):\n",
        "    if x>= y :\n",
        "        return x\n",
        "    else:\n",
        "        return y \n",
        "\n",
        "pair_max = np.vectorize(max_value , otypes=[float])\n",
        "out1 = pair_max(arr1 , arr2)\n",
        "print(out1 , end = ' ')\n"
      ],
      "execution_count": 14,
      "outputs": [
        {
          "output_type": "stream",
          "text": [
            "[3. 4. 6. 6. 7. 8.] "
          ],
          "name": "stdout"
        }
      ]
    },
    {
      "cell_type": "code",
      "metadata": {
        "id": "nmufhVVIMYpy",
        "colab_type": "code",
        "colab": {
          "base_uri": "https://localhost:8080/",
          "height": 34
        },
        "outputId": "b181af8e-1dc7-4fbb-eb94-5685d7fbb647"
      },
      "source": [
        "out2 = np.maximum(arr1 , arr2)\n",
        "print(out2 , end = ' ')"
      ],
      "execution_count": 16,
      "outputs": [
        {
          "output_type": "stream",
          "text": [
            "[3 4 6 6 7 8] "
          ],
          "name": "stdout"
        }
      ]
    },
    {
      "cell_type": "code",
      "metadata": {
        "id": "kutYxphUMdtq",
        "colab_type": "code",
        "colab": {
          "base_uri": "https://localhost:8080/",
          "height": 34
        },
        "outputId": "151ff7ce-f876-4620-bf92-00ee49c1c5a6"
      },
      "source": [
        "out3 = np.where(arr1 > arr2 , arr1 , arr2)\n",
        "print(out3)"
      ],
      "execution_count": 17,
      "outputs": [
        {
          "output_type": "stream",
          "text": [
            "[3 4 6 6 7 8]\n"
          ],
          "name": "stdout"
        }
      ]
    },
    {
      "cell_type": "markdown",
      "metadata": {
        "id": "T2wXUdM0NFd4",
        "colab_type": "text"
      },
      "source": [
        "# Hoán đổi vị trí 2 cột"
      ]
    },
    {
      "cell_type": "code",
      "metadata": {
        "id": "KV8U-LE3MsdO",
        "colab_type": "code",
        "colab": {
          "base_uri": "https://localhost:8080/",
          "height": 170
        },
        "outputId": "c1503de0-4593-48db-f7af-17e097d9d219"
      },
      "source": [
        "arr = np.arange(12).reshape(4,3)\n",
        "print(arr , end = '\\n\\n')\n",
        "out = arr[:, [1,0,2]]\n",
        "print(out)"
      ],
      "execution_count": 18,
      "outputs": [
        {
          "output_type": "stream",
          "text": [
            "[[ 0  1  2]\n",
            " [ 3  4  5]\n",
            " [ 6  7  8]\n",
            " [ 9 10 11]]\n",
            "\n",
            "[[ 1  0  2]\n",
            " [ 4  3  5]\n",
            " [ 7  6  8]\n",
            " [10  9 11]]\n"
          ],
          "name": "stdout"
        }
      ]
    },
    {
      "cell_type": "markdown",
      "metadata": {
        "id": "_fVULdzqNd1I",
        "colab_type": "text"
      },
      "source": [
        "# Đảo ngược các dòng"
      ]
    },
    {
      "cell_type": "code",
      "metadata": {
        "id": "yVyliuPUNV87",
        "colab_type": "code",
        "colab": {
          "base_uri": "https://localhost:8080/",
          "height": 85
        },
        "outputId": "c8567a4c-e083-4f08-ba0d-cb4b58e90cc8"
      },
      "source": [
        "out = arr[:,::-1]\n",
        "print(out)"
      ],
      "execution_count": 19,
      "outputs": [
        {
          "output_type": "stream",
          "text": [
            "[[ 2  1  0]\n",
            " [ 5  4  3]\n",
            " [ 8  7  6]\n",
            " [11 10  9]]\n"
          ],
          "name": "stdout"
        }
      ]
    },
    {
      "cell_type": "markdown",
      "metadata": {
        "id": "v07GaFo3NwqI",
        "colab_type": "text"
      },
      "source": [
        "# Sinh ra mảng 2x3 với các số ngẫu nhiên từ 1-9 ,"
      ]
    },
    {
      "cell_type": "code",
      "metadata": {
        "id": "Q0fAwaE3Np3x",
        "colab_type": "code",
        "colab": {
          "base_uri": "https://localhost:8080/",
          "height": 51
        },
        "outputId": "5b0f7796-042c-4455-f1f9-aa927d09f610"
      },
      "source": [
        "arr  =  np.random.uniform(1,9, size = (2,3))\n",
        "print(arr)"
      ],
      "execution_count": 20,
      "outputs": [
        {
          "output_type": "stream",
          "text": [
            "[[7.94584501 8.10128885 8.87775637]\n",
            " [3.30065551 8.65519452 1.2495228 ]]\n"
          ],
          "name": "stdout"
        }
      ]
    },
    {
      "cell_type": "code",
      "metadata": {
        "id": "l5x7kaUzOVby",
        "colab_type": "code",
        "colab": {
          "base_uri": "https://localhost:8080/",
          "height": 85
        },
        "outputId": "f66103e8-7168-4267-c92f-6d345044f56d"
      },
      "source": [
        "arr = np.random.random([2,3])\n",
        "print(arr)\n",
        "np.set_printoptions(precision=2)\n",
        "print(arr)"
      ],
      "execution_count": 22,
      "outputs": [
        {
          "output_type": "stream",
          "text": [
            "[[0.14 0.7  0.29]\n",
            " [0.04 0.76 0.93]]\n",
            "[[0.14 0.7  0.29]\n",
            " [0.04 0.76 0.93]]\n"
          ],
          "name": "stdout"
        }
      ]
    },
    {
      "cell_type": "code",
      "metadata": {
        "id": "ZViZEsdEO0j3",
        "colab_type": "code",
        "colab": {}
      },
      "source": [
        ""
      ],
      "execution_count": 0,
      "outputs": []
    }
  ]
}