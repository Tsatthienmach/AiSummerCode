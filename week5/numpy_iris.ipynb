{
  "nbformat": 4,
  "nbformat_minor": 0,
  "metadata": {
    "colab": {
      "name": "numpy_iris.ipynb",
      "version": "0.3.2",
      "provenance": [],
      "collapsed_sections": [],
      "include_colab_link": true
    },
    "kernelspec": {
      "name": "python3",
      "display_name": "Python 3"
    }
  },
  "cells": [
    {
      "cell_type": "markdown",
      "metadata": {
        "id": "view-in-github",
        "colab_type": "text"
      },
      "source": [
        "<a href=\"https://colab.research.google.com/github/Tsatthienmach/AiSummerCode/blob/master/week5/numpy_iris.ipynb\" target=\"_parent\"><img src=\"https://colab.research.google.com/assets/colab-badge.svg\" alt=\"Open In Colab\"/></a>"
      ]
    },
    {
      "cell_type": "code",
      "metadata": {
        "id": "zQTLgLwhPnFF",
        "colab_type": "code",
        "colab": {
          "base_uri": "https://localhost:8080/",
          "height": 187
        },
        "outputId": "44286569-b7db-4025-e992-f79f15a70dc0"
      },
      "source": [
        "# Clone the entire repo.\n",
        "!git clone -l -s https://github.com/Tsatthienmach/AiSummerCode.git cloned-repo\n",
        "%cd cloned-repo\n",
        "!ls"
      ],
      "execution_count": 23,
      "outputs": [
        {
          "output_type": "stream",
          "text": [
            "Cloning into 'cloned-repo'...\n",
            "warning: --local is ignored\n",
            "remote: Enumerating objects: 106, done.\u001b[K\n",
            "remote: Counting objects: 100% (106/106), done.\u001b[K\n",
            "remote: Compressing objects: 100% (98/98), done.\u001b[K\n",
            "remote: Total 106 (delta 44), reused 0 (delta 0), pack-reused 0\u001b[K\n",
            "Receiving objects: 100% (106/106), 1.69 MiB | 21.67 MiB/s, done.\n",
            "Resolving deltas: 100% (44/44), done.\n",
            "/content/cloned-repo\n",
            "_config.yml  documentations  README.md\tweek2  week4  week5\n"
          ],
          "name": "stdout"
        }
      ]
    },
    {
      "cell_type": "code",
      "metadata": {
        "id": "qF3gyslyTsSP",
        "colab_type": "code",
        "colab": {
          "base_uri": "https://localhost:8080/",
          "height": 34
        },
        "outputId": "21f35ba3-9930-4772-e499-65de0ad553bb"
      },
      "source": [
        "iris = np.genfromtxt('/content/cloned-repo/week5/iris.csv' , delimiter= ',' , dtype= 'object' )\n",
        "print(iris.shape)"
      ],
      "execution_count": 26,
      "outputs": [
        {
          "output_type": "stream",
          "text": [
            "(30, 5)\n"
          ],
          "name": "stdout"
        }
      ]
    },
    {
      "cell_type": "code",
      "metadata": {
        "id": "3xp1_zyJUGhU",
        "colab_type": "code",
        "colab": {
          "base_uri": "https://localhost:8080/",
          "height": 88
        },
        "outputId": "5e00355e-6f37-4ba8-9c37-21dc88956ef3"
      },
      "source": [
        "iris_1d = np.genfromtxt('/content/cloned-repo/week5/iris.csv' , delimiter= ',' , dtype= None )\n",
        "print(iris_1d.shape)"
      ],
      "execution_count": 27,
      "outputs": [
        {
          "output_type": "stream",
          "text": [
            "(30,)\n"
          ],
          "name": "stdout"
        },
        {
          "output_type": "stream",
          "text": [
            "/usr/local/lib/python3.6/dist-packages/ipykernel_launcher.py:1: VisibleDeprecationWarning: Reading unicode strings without specifying the encoding argument is deprecated. Set the encoding, use None for the system default.\n",
            "  \"\"\"Entry point for launching an IPython kernel.\n"
          ],
          "name": "stderr"
        }
      ]
    },
    {
      "cell_type": "code",
      "metadata": {
        "id": "vpRA4afrU2Qj",
        "colab_type": "code",
        "colab": {
          "base_uri": "https://localhost:8080/",
          "height": 442
        },
        "outputId": "7d2d57ab-99a4-40e9-fedf-f251b96ef053"
      },
      "source": [
        "print(iris_1d)"
      ],
      "execution_count": 28,
      "outputs": [
        {
          "output_type": "stream",
          "text": [
            "[(5.1, 3.5, 1.4, 0.2, b'Iris-setosa') (4.9, 3. , 1.4, 0.2, b'Iris-setosa')\n",
            " (4.7, 3.2, 1.3, 0.2, b'Iris-setosa') (4.6, 3.1, 1.5, 0.2, b'Iris-setosa')\n",
            " (5. , 3.6, 1.4, 0.2, b'Iris-setosa') (5.4, 3.9, 1.7, 0.4, b'Iris-setosa')\n",
            " (4.6, 3.4, 1.4, 0.3, b'Iris-setosa') (5. , 3.4, 1.5, 0.2, b'Iris-setosa')\n",
            " (4.4, 2.9, 1.4, 0.2, b'Iris-setosa') (4.9, 3.1, 1.5, 0.1, b'Iris-setosa')\n",
            " (7. , 3.2, 4.7, 1.4, b'Iris-versicolor')\n",
            " (6.4, 3.2, 4.5, 1.5, b'Iris-versicolor')\n",
            " (6.9, 3.1, 4.9, 1.5, b'Iris-versicolor')\n",
            " (5.5, 2.3, 4. , 1.3, b'Iris-versicolor')\n",
            " (6.5, 2.8, 4.6, 1.5, b'Iris-versicolor')\n",
            " (5.7, 2.8, 4.5, 1.3, b'Iris-versicolor')\n",
            " (6.3, 3.3, 4.7, 1.6, b'Iris-versicolor')\n",
            " (4.9, 2.4, 3.3, 1. , b'Iris-versicolor')\n",
            " (6.6, 2.9, 4.6, 1.3, b'Iris-versicolor')\n",
            " (5.2, 2.7, 3.9, 1.4, b'Iris-versicolor')\n",
            " (6.3, 3.3, 6. , 2.5, b'Iris-virginica')\n",
            " (5.8, 2.7, 5.1, 1.9, b'Iris-virginica')\n",
            " (7.1, 3. , 5.9, 2.1, b'Iris-virginica')\n",
            " (6.3, 2.9, 5.6, 1.8, b'Iris-virginica')\n",
            " (6.5, 3. , 5.8, 2.2, b'Iris-virginica')\n",
            " (7.6, 3. , 6.6, 2.1, b'Iris-virginica')\n",
            " (4.9, 2.5, 4.5, 1.7, b'Iris-virginica')\n",
            " (7.3, 2.9, 6.3, 1.8, b'Iris-virginica')\n",
            " (6.7, 2.5, 5.8, 1.8, b'Iris-virginica')\n",
            " (7.2, 3.6, 6.1, 2.5, b'Iris-virginica')]\n"
          ],
          "name": "stdout"
        }
      ]
    },
    {
      "cell_type": "code",
      "metadata": {
        "id": "znIGtwOzVHqx",
        "colab_type": "code",
        "colab": {}
      },
      "source": [
        "iris_2d_1 = np.array([row.tolist()[:4] for row in iris_1d])\n",
        "print(iris_2d_1)"
      ],
      "execution_count": 0,
      "outputs": []
    },
    {
      "cell_type": "code",
      "metadata": {
        "id": "4jiFio3XX6Xb",
        "colab_type": "code",
        "colab": {
          "base_uri": "https://localhost:8080/",
          "height": 527
        },
        "outputId": "8013a47f-26a5-49a6-b518-4d2b22330e51"
      },
      "source": [
        "iris_2d_2 = np.genfromtxt('/content/cloned-repo/week5/iris.csv', delimiter = ',' , dtype= 'float' ,  usecols = [0,1,2,3])\n",
        "print(iris_2d_2)"
      ],
      "execution_count": 33,
      "outputs": [
        {
          "output_type": "stream",
          "text": [
            "[[5.1 3.5 1.4 0.2]\n",
            " [4.9 3.  1.4 0.2]\n",
            " [4.7 3.2 1.3 0.2]\n",
            " [4.6 3.1 1.5 0.2]\n",
            " [5.  3.6 1.4 0.2]\n",
            " [5.4 3.9 1.7 0.4]\n",
            " [4.6 3.4 1.4 0.3]\n",
            " [5.  3.4 1.5 0.2]\n",
            " [4.4 2.9 1.4 0.2]\n",
            " [4.9 3.1 1.5 0.1]\n",
            " [7.  3.2 4.7 1.4]\n",
            " [6.4 3.2 4.5 1.5]\n",
            " [6.9 3.1 4.9 1.5]\n",
            " [5.5 2.3 4.  1.3]\n",
            " [6.5 2.8 4.6 1.5]\n",
            " [5.7 2.8 4.5 1.3]\n",
            " [6.3 3.3 4.7 1.6]\n",
            " [4.9 2.4 3.3 1. ]\n",
            " [6.6 2.9 4.6 1.3]\n",
            " [5.2 2.7 3.9 1.4]\n",
            " [6.3 3.3 6.  2.5]\n",
            " [5.8 2.7 5.1 1.9]\n",
            " [7.1 3.  5.9 2.1]\n",
            " [6.3 2.9 5.6 1.8]\n",
            " [6.5 3.  5.8 2.2]\n",
            " [7.6 3.  6.6 2.1]\n",
            " [4.9 2.5 4.5 1.7]\n",
            " [7.3 2.9 6.3 1.8]\n",
            " [6.7 2.5 5.8 1.8]\n",
            " [7.2 3.6 6.1 2.5]]\n"
          ],
          "name": "stdout"
        }
      ]
    },
    {
      "cell_type": "code",
      "metadata": {
        "id": "MuIdAVRIYeLu",
        "colab_type": "code",
        "colab": {
          "base_uri": "https://localhost:8080/",
          "height": 51
        },
        "outputId": "f2090be5-39a7-432f-cdf0-072d6c27302e"
      },
      "source": [
        "sepal_length = np.genfromtxt('/content/cloned-repo/week5/iris.csv', delimiter = ',' , dtype= 'float' ,  usecols = [0])\n",
        "print(sepal_length)"
      ],
      "execution_count": 40,
      "outputs": [
        {
          "output_type": "stream",
          "text": [
            "[5.1 4.9 4.7 4.6 5.  5.4 4.6 5.  4.4 4.9 7.  6.4 6.9 5.5 6.5 5.7 6.3 4.9\n",
            " 6.6 5.2 6.3 5.8 7.1 6.3 6.5 7.6 4.9 7.3 6.7 7.2]\n"
          ],
          "name": "stdout"
        }
      ]
    },
    {
      "cell_type": "code",
      "metadata": {
        "id": "rgaTxzE_Y78W",
        "colab_type": "code",
        "colab": {
          "base_uri": "https://localhost:8080/",
          "height": 34
        },
        "outputId": "0b5fd02b-a5f0-43db-dc86-7e1e43b1b2ed"
      },
      "source": [
        "mean , median , std = np.mean(sepal_length) , np.median(sepal_length) , np.std(sepal_length)\n",
        "print (mean , median , std)"
      ],
      "execution_count": 41,
      "outputs": [
        {
          "output_type": "stream",
          "text": [
            "5.843333333333333 5.75 0.947868954843208\n"
          ],
          "name": "stdout"
        }
      ]
    },
    {
      "cell_type": "markdown",
      "metadata": {
        "id": "eZhMPI7yaNCS",
        "colab_type": "text"
      },
      "source": [
        "# Chuẩn hóa \n",
        "### (a-a.min)/(a.max-a.min)"
      ]
    },
    {
      "cell_type": "code",
      "metadata": {
        "id": "u5M3OtvaZ-nV",
        "colab_type": "code",
        "colab": {}
      },
      "source": [
        "normal_sl = (sepal_length - sepal_length.min())/(sepal_length.max() - sepal_length.min())"
      ],
      "execution_count": 0,
      "outputs": []
    },
    {
      "cell_type": "code",
      "metadata": {
        "id": "wgVmreAqax4p",
        "colab_type": "code",
        "colab": {
          "base_uri": "https://localhost:8080/",
          "height": 68
        },
        "outputId": "deb48e77-3787-4de7-bfc5-153f04efb2f4"
      },
      "source": [
        "print(normal_sl)"
      ],
      "execution_count": 43,
      "outputs": [
        {
          "output_type": "stream",
          "text": [
            "[0.22 0.16 0.09 0.06 0.19 0.31 0.06 0.19 0.   0.16 0.81 0.63 0.78 0.34\n",
            " 0.66 0.41 0.59 0.16 0.69 0.25 0.59 0.44 0.84 0.59 0.66 1.   0.16 0.91\n",
            " 0.72 0.88]\n"
          ],
          "name": "stdout"
        }
      ]
    },
    {
      "cell_type": "markdown",
      "metadata": {
        "id": "xXpRy0ISbBPt",
        "colab_type": "text"
      },
      "source": [
        "# Softmax"
      ]
    },
    {
      "cell_type": "code",
      "metadata": {
        "id": "Umw_682_az87",
        "colab_type": "code",
        "colab": {
          "base_uri": "https://localhost:8080/",
          "height": 68
        },
        "outputId": "503c6e58-5f30-467f-dae4-eac0f6441f15"
      },
      "source": [
        "def softmax(x):\n",
        "    e_x = np.exp(x-np.max(x))\n",
        "    return e_x/e_x.sum()\n",
        "np.set_printoptions(precision = 4)\n",
        "print(softmax(sepal_length))"
      ],
      "execution_count": 45,
      "outputs": [
        {
          "output_type": "stream",
          "text": [
            "[0.0103 0.0084 0.0069 0.0063 0.0093 0.0139 0.0063 0.0093 0.0051 0.0084\n",
            " 0.069  0.0379 0.0624 0.0154 0.0418 0.0188 0.0343 0.0084 0.0462 0.0114\n",
            " 0.0343 0.0208 0.0762 0.0343 0.0418 0.1257 0.0084 0.0931 0.0511 0.0843]\n"
          ],
          "name": "stdout"
        }
      ]
    },
    {
      "cell_type": "markdown",
      "metadata": {
        "id": "HqlfOFOIbyLd",
        "colab_type": "text"
      },
      "source": [
        "# Missing values , genfromtxt to 2d"
      ]
    },
    {
      "cell_type": "code",
      "metadata": {
        "id": "PVF8Va28bohW",
        "colab_type": "code",
        "colab": {
          "base_uri": "https://localhost:8080/",
          "height": 34
        },
        "outputId": "2c995e37-6093-42c0-e34d-856350991b6b"
      },
      "source": [
        "iris_2d = np.genfromtxt('/content/cloned-repo/week5/iris.csv', delimiter = ',' , dtype= 'float')\n",
        "print(iris_2d.shape)"
      ],
      "execution_count": 46,
      "outputs": [
        {
          "output_type": "stream",
          "text": [
            "(30, 5)\n"
          ],
          "name": "stdout"
        }
      ]
    },
    {
      "cell_type": "code",
      "metadata": {
        "id": "pgO67Ws3cPz0",
        "colab_type": "code",
        "colab": {
          "base_uri": "https://localhost:8080/",
          "height": 102
        },
        "outputId": "fd3d4fcc-f10e-44c8-921b-ea1fe4c0cdb2"
      },
      "source": [
        "print(iris_2d[:5])"
      ],
      "execution_count": 47,
      "outputs": [
        {
          "output_type": "stream",
          "text": [
            "[[5.1 3.5 1.4 0.2 nan]\n",
            " [4.9 3.  1.4 0.2 nan]\n",
            " [4.7 3.2 1.3 0.2 nan]\n",
            " [4.6 3.1 1.5 0.2 nan]\n",
            " [5.  3.6 1.4 0.2 nan]]\n"
          ],
          "name": "stdout"
        }
      ]
    },
    {
      "cell_type": "code",
      "metadata": {
        "id": "0io_jze6cUPt",
        "colab_type": "code",
        "colab": {
          "base_uri": "https://localhost:8080/",
          "height": 122
        },
        "outputId": "726ea07a-5d89-414e-f0e4-bcfec1a45173"
      },
      "source": [
        "print('\\n Số phần tử là nan: ' , np.isnan(iris_2d).sum())\n",
        "index = np.where(np.isnan(iris_2d))\n",
        "print(index)"
      ],
      "execution_count": 48,
      "outputs": [
        {
          "output_type": "stream",
          "text": [
            "\n",
            " Số phần tử là nan:  30\n",
            "(array([ 0,  1,  2,  3,  4,  5,  6,  7,  8,  9, 10, 11, 12, 13, 14, 15, 16,\n",
            "       17, 18, 19, 20, 21, 22, 23, 24, 25, 26, 27, 28, 29]), array([4, 4, 4, 4, 4, 4, 4, 4, 4, 4, 4, 4, 4, 4, 4, 4, 4, 4, 4, 4, 4, 4,\n",
            "       4, 4, 4, 4, 4, 4, 4, 4]))\n"
          ],
          "name": "stdout"
        }
      ]
    },
    {
      "cell_type": "code",
      "metadata": {
        "id": "0xMZ8mwDcqEr",
        "colab_type": "code",
        "colab": {}
      },
      "source": [
        ""
      ],
      "execution_count": 0,
      "outputs": []
    }
  ]
}