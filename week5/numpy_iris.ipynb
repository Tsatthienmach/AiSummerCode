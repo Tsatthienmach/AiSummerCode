{
  "nbformat": 4,
  "nbformat_minor": 0,
  "metadata": {
    "colab": {
      "name": "numpy_iris.ipynb",
      "version": "0.3.2",
      "provenance": [],
      "collapsed_sections": [],
      "include_colab_link": true
    },
    "kernelspec": {
      "name": "python3",
      "display_name": "Python 3"
    }
  },
  "cells": [
    {
      "cell_type": "markdown",
      "metadata": {
        "id": "view-in-github",
        "colab_type": "text"
      },
      "source": [
        "<a href=\"https://colab.research.google.com/github/Tsatthienmach/AiSummerCode/blob/master/week5/numpy_iris.ipynb\" target=\"_parent\"><img src=\"https://colab.research.google.com/assets/colab-badge.svg\" alt=\"Open In Colab\"/></a>"
      ]
    },
    {
      "cell_type": "code",
      "metadata": {
        "id": "zQTLgLwhPnFF",
        "colab_type": "code",
        "outputId": "6333885e-4578-4939-840b-432ee23c2f03",
        "colab": {
          "base_uri": "https://localhost:8080/",
          "height": 187
        }
      },
      "source": [
        "# Clone the entire repo.\n",
        "!git clone -l -s https://github.com/Tsatthienmach/AiSummerCode.git cloned-repo\n",
        "%cd cloned-repo\n",
        "!ls"
      ],
      "execution_count": 1,
      "outputs": [
        {
          "output_type": "stream",
          "text": [
            "Cloning into 'cloned-repo'...\n",
            "warning: --local is ignored\n",
            "remote: Enumerating objects: 110, done.\u001b[K\n",
            "remote: Counting objects: 100% (110/110), done.\u001b[K\n",
            "remote: Compressing objects: 100% (102/102), done.\u001b[K\n",
            "remote: Total 110 (delta 46), reused 0 (delta 0), pack-reused 0\u001b[K\n",
            "Receiving objects: 100% (110/110), 1.70 MiB | 10.92 MiB/s, done.\n",
            "Resolving deltas: 100% (46/46), done.\n",
            "/content/cloned-repo\n",
            "_config.yml  documentations  README.md\tweek2  week4  week5\n"
          ],
          "name": "stdout"
        }
      ]
    },
    {
      "cell_type": "code",
      "metadata": {
        "id": "ApEQ8IHfbw1H",
        "colab_type": "code",
        "colab": {}
      },
      "source": [
        "import numpy as np\n",
        "path = '/content/cloned-repo/week5/iris.csv'"
      ],
      "execution_count": 0,
      "outputs": []
    },
    {
      "cell_type": "code",
      "metadata": {
        "id": "qF3gyslyTsSP",
        "colab_type": "code",
        "outputId": "cde8561c-8424-40c2-85ea-513dd6f1aa56",
        "colab": {
          "base_uri": "https://localhost:8080/",
          "height": 34
        }
      },
      "source": [
        "iris = np.genfromtxt('/content/cloned-repo/week5/iris.csv' , delimiter= ',' , dtype= 'object' )\n",
        "print(iris.shape)"
      ],
      "execution_count": 3,
      "outputs": [
        {
          "output_type": "stream",
          "text": [
            "(30, 5)\n"
          ],
          "name": "stdout"
        }
      ]
    },
    {
      "cell_type": "code",
      "metadata": {
        "id": "3xp1_zyJUGhU",
        "colab_type": "code",
        "outputId": "dced9d26-ba2b-4dad-e61e-a94552cf8510",
        "colab": {
          "base_uri": "https://localhost:8080/",
          "height": 88
        }
      },
      "source": [
        "iris_1d = np.genfromtxt('/content/cloned-repo/week5/iris.csv' , delimiter= ',' , dtype= None )\n",
        "print(iris_1d.shape)"
      ],
      "execution_count": 4,
      "outputs": [
        {
          "output_type": "stream",
          "text": [
            "(30,)\n"
          ],
          "name": "stdout"
        },
        {
          "output_type": "stream",
          "text": [
            "/usr/local/lib/python3.6/dist-packages/ipykernel_launcher.py:1: VisibleDeprecationWarning: Reading unicode strings without specifying the encoding argument is deprecated. Set the encoding, use None for the system default.\n",
            "  \"\"\"Entry point for launching an IPython kernel.\n"
          ],
          "name": "stderr"
        }
      ]
    },
    {
      "cell_type": "code",
      "metadata": {
        "id": "vpRA4afrU2Qj",
        "colab_type": "code",
        "outputId": "c79dfff3-4d20-45e4-b94a-27b1b013b029",
        "colab": {
          "base_uri": "https://localhost:8080/",
          "height": 442
        }
      },
      "source": [
        "print(iris_1d)"
      ],
      "execution_count": 5,
      "outputs": [
        {
          "output_type": "stream",
          "text": [
            "[(5.1, 3.5, 1.4, 0.2, b'Iris-setosa') (4.9, 3. , 1.4, 0.2, b'Iris-setosa')\n",
            " (4.7, 3.2, 1.3, 0.2, b'Iris-setosa') (4.6, 3.1, 1.5, 0.2, b'Iris-setosa')\n",
            " (5. , 3.6, 1.4, 0.2, b'Iris-setosa') (5.4, 3.9, 1.7, 0.4, b'Iris-setosa')\n",
            " (4.6, 3.4, 1.4, 0.3, b'Iris-setosa') (5. , 3.4, 1.5, 0.2, b'Iris-setosa')\n",
            " (4.4, 2.9, 1.4, 0.2, b'Iris-setosa') (4.9, 3.1, 1.5, 0.1, b'Iris-setosa')\n",
            " (7. , 3.2, 4.7, 1.4, b'Iris-versicolor')\n",
            " (6.4, 3.2, 4.5, 1.5, b'Iris-versicolor')\n",
            " (6.9, 3.1, 4.9, 1.5, b'Iris-versicolor')\n",
            " (5.5, 2.3, 4. , 1.3, b'Iris-versicolor')\n",
            " (6.5, 2.8, 4.6, 1.5, b'Iris-versicolor')\n",
            " (5.7, 2.8, 4.5, 1.3, b'Iris-versicolor')\n",
            " (6.3, 3.3, 4.7, 1.6, b'Iris-versicolor')\n",
            " (4.9, 2.4, 3.3, 1. , b'Iris-versicolor')\n",
            " (6.6, 2.9, 4.6, 1.3, b'Iris-versicolor')\n",
            " (5.2, 2.7, 3.9, 1.4, b'Iris-versicolor')\n",
            " (6.3, 3.3, 6. , 2.5, b'Iris-virginica')\n",
            " (5.8, 2.7, 5.1, 1.9, b'Iris-virginica')\n",
            " (7.1, 3. , 5.9, 2.1, b'Iris-virginica')\n",
            " (6.3, 2.9, 5.6, 1.8, b'Iris-virginica')\n",
            " (6.5, 3. , 5.8, 2.2, b'Iris-virginica')\n",
            " (7.6, 3. , 6.6, 2.1, b'Iris-virginica')\n",
            " (4.9, 2.5, 4.5, 1.7, b'Iris-virginica')\n",
            " (7.3, 2.9, 6.3, 1.8, b'Iris-virginica')\n",
            " (6.7, 2.5, 5.8, 1.8, b'Iris-virginica')\n",
            " (7.2, 3.6, 6.1, 2.5, b'Iris-virginica')]\n"
          ],
          "name": "stdout"
        }
      ]
    },
    {
      "cell_type": "code",
      "metadata": {
        "id": "znIGtwOzVHqx",
        "colab_type": "code",
        "outputId": "bdbfdf9b-ac94-4001-e17b-c12c9e8653ff",
        "colab": {
          "base_uri": "https://localhost:8080/",
          "height": 527
        }
      },
      "source": [
        "iris_2d_1 = np.array([row.tolist()[:4] for row in iris_1d])\n",
        "print(iris_2d_1)"
      ],
      "execution_count": 6,
      "outputs": [
        {
          "output_type": "stream",
          "text": [
            "[[5.1 3.5 1.4 0.2]\n",
            " [4.9 3.  1.4 0.2]\n",
            " [4.7 3.2 1.3 0.2]\n",
            " [4.6 3.1 1.5 0.2]\n",
            " [5.  3.6 1.4 0.2]\n",
            " [5.4 3.9 1.7 0.4]\n",
            " [4.6 3.4 1.4 0.3]\n",
            " [5.  3.4 1.5 0.2]\n",
            " [4.4 2.9 1.4 0.2]\n",
            " [4.9 3.1 1.5 0.1]\n",
            " [7.  3.2 4.7 1.4]\n",
            " [6.4 3.2 4.5 1.5]\n",
            " [6.9 3.1 4.9 1.5]\n",
            " [5.5 2.3 4.  1.3]\n",
            " [6.5 2.8 4.6 1.5]\n",
            " [5.7 2.8 4.5 1.3]\n",
            " [6.3 3.3 4.7 1.6]\n",
            " [4.9 2.4 3.3 1. ]\n",
            " [6.6 2.9 4.6 1.3]\n",
            " [5.2 2.7 3.9 1.4]\n",
            " [6.3 3.3 6.  2.5]\n",
            " [5.8 2.7 5.1 1.9]\n",
            " [7.1 3.  5.9 2.1]\n",
            " [6.3 2.9 5.6 1.8]\n",
            " [6.5 3.  5.8 2.2]\n",
            " [7.6 3.  6.6 2.1]\n",
            " [4.9 2.5 4.5 1.7]\n",
            " [7.3 2.9 6.3 1.8]\n",
            " [6.7 2.5 5.8 1.8]\n",
            " [7.2 3.6 6.1 2.5]]\n"
          ],
          "name": "stdout"
        }
      ]
    },
    {
      "cell_type": "code",
      "metadata": {
        "id": "4jiFio3XX6Xb",
        "colab_type": "code",
        "outputId": "5fd4bd56-0d3d-4603-cefa-93f9467c5eaa",
        "colab": {
          "base_uri": "https://localhost:8080/",
          "height": 527
        }
      },
      "source": [
        "iris_2d_2 = np.genfromtxt('/content/cloned-repo/week5/iris.csv', delimiter = ',' , dtype= 'float' ,  usecols = [0,1,2,3])\n",
        "print(iris_2d_2)"
      ],
      "execution_count": 7,
      "outputs": [
        {
          "output_type": "stream",
          "text": [
            "[[5.1 3.5 1.4 0.2]\n",
            " [4.9 3.  1.4 0.2]\n",
            " [4.7 3.2 1.3 0.2]\n",
            " [4.6 3.1 1.5 0.2]\n",
            " [5.  3.6 1.4 0.2]\n",
            " [5.4 3.9 1.7 0.4]\n",
            " [4.6 3.4 1.4 0.3]\n",
            " [5.  3.4 1.5 0.2]\n",
            " [4.4 2.9 1.4 0.2]\n",
            " [4.9 3.1 1.5 0.1]\n",
            " [7.  3.2 4.7 1.4]\n",
            " [6.4 3.2 4.5 1.5]\n",
            " [6.9 3.1 4.9 1.5]\n",
            " [5.5 2.3 4.  1.3]\n",
            " [6.5 2.8 4.6 1.5]\n",
            " [5.7 2.8 4.5 1.3]\n",
            " [6.3 3.3 4.7 1.6]\n",
            " [4.9 2.4 3.3 1. ]\n",
            " [6.6 2.9 4.6 1.3]\n",
            " [5.2 2.7 3.9 1.4]\n",
            " [6.3 3.3 6.  2.5]\n",
            " [5.8 2.7 5.1 1.9]\n",
            " [7.1 3.  5.9 2.1]\n",
            " [6.3 2.9 5.6 1.8]\n",
            " [6.5 3.  5.8 2.2]\n",
            " [7.6 3.  6.6 2.1]\n",
            " [4.9 2.5 4.5 1.7]\n",
            " [7.3 2.9 6.3 1.8]\n",
            " [6.7 2.5 5.8 1.8]\n",
            " [7.2 3.6 6.1 2.5]]\n"
          ],
          "name": "stdout"
        }
      ]
    },
    {
      "cell_type": "code",
      "metadata": {
        "id": "MuIdAVRIYeLu",
        "colab_type": "code",
        "outputId": "266c6621-80cd-49aa-9653-0458d27cc003",
        "colab": {
          "base_uri": "https://localhost:8080/",
          "height": 51
        }
      },
      "source": [
        "sepal_length = np.genfromtxt('/content/cloned-repo/week5/iris.csv', delimiter = ',' , dtype= 'float' ,  usecols = [0])\n",
        "print(sepal_length)"
      ],
      "execution_count": 8,
      "outputs": [
        {
          "output_type": "stream",
          "text": [
            "[5.1 4.9 4.7 4.6 5.  5.4 4.6 5.  4.4 4.9 7.  6.4 6.9 5.5 6.5 5.7 6.3 4.9\n",
            " 6.6 5.2 6.3 5.8 7.1 6.3 6.5 7.6 4.9 7.3 6.7 7.2]\n"
          ],
          "name": "stdout"
        }
      ]
    },
    {
      "cell_type": "code",
      "metadata": {
        "id": "rgaTxzE_Y78W",
        "colab_type": "code",
        "outputId": "692ab5d1-cd9a-4acf-ad49-72aa974b5214",
        "colab": {
          "base_uri": "https://localhost:8080/",
          "height": 34
        }
      },
      "source": [
        "mean , median , std = np.mean(sepal_length) , np.median(sepal_length) , np.std(sepal_length)\n",
        "print (mean , median , std)"
      ],
      "execution_count": 9,
      "outputs": [
        {
          "output_type": "stream",
          "text": [
            "5.843333333333333 5.75 0.947868954843208\n"
          ],
          "name": "stdout"
        }
      ]
    },
    {
      "cell_type": "markdown",
      "metadata": {
        "id": "eZhMPI7yaNCS",
        "colab_type": "text"
      },
      "source": [
        "# Chuẩn hóa \n",
        "### (a-a.min)/(a.max-a.min)"
      ]
    },
    {
      "cell_type": "code",
      "metadata": {
        "id": "u5M3OtvaZ-nV",
        "colab_type": "code",
        "colab": {}
      },
      "source": [
        "normal_sl = (sepal_length - sepal_length.min())/(sepal_length.max() - sepal_length.min())"
      ],
      "execution_count": 0,
      "outputs": []
    },
    {
      "cell_type": "code",
      "metadata": {
        "id": "wgVmreAqax4p",
        "colab_type": "code",
        "outputId": "171a7ac2-fc39-4cb9-d55d-e3212c2048e8",
        "colab": {
          "base_uri": "https://localhost:8080/",
          "height": 85
        }
      },
      "source": [
        "print(normal_sl)"
      ],
      "execution_count": 11,
      "outputs": [
        {
          "output_type": "stream",
          "text": [
            "[0.21875 0.15625 0.09375 0.0625  0.1875  0.3125  0.0625  0.1875  0.\n",
            " 0.15625 0.8125  0.625   0.78125 0.34375 0.65625 0.40625 0.59375 0.15625\n",
            " 0.6875  0.25    0.59375 0.4375  0.84375 0.59375 0.65625 1.      0.15625\n",
            " 0.90625 0.71875 0.875  ]\n"
          ],
          "name": "stdout"
        }
      ]
    },
    {
      "cell_type": "markdown",
      "metadata": {
        "id": "xXpRy0ISbBPt",
        "colab_type": "text"
      },
      "source": [
        "# Softmax"
      ]
    },
    {
      "cell_type": "code",
      "metadata": {
        "id": "Umw_682_az87",
        "colab_type": "code",
        "outputId": "69f5da27-afc4-4250-dc79-f509f9da2459",
        "colab": {
          "base_uri": "https://localhost:8080/",
          "height": 68
        }
      },
      "source": [
        "def softmax(x):\n",
        "    e_x = np.exp(x-np.max(x))\n",
        "    return e_x/e_x.sum()\n",
        "np.set_printoptions(precision = 4)\n",
        "print(softmax(sepal_length))"
      ],
      "execution_count": 12,
      "outputs": [
        {
          "output_type": "stream",
          "text": [
            "[0.0103 0.0084 0.0069 0.0063 0.0093 0.0139 0.0063 0.0093 0.0051 0.0084\n",
            " 0.069  0.0379 0.0624 0.0154 0.0418 0.0188 0.0343 0.0084 0.0462 0.0114\n",
            " 0.0343 0.0208 0.0762 0.0343 0.0418 0.1257 0.0084 0.0931 0.0511 0.0843]\n"
          ],
          "name": "stdout"
        }
      ]
    },
    {
      "cell_type": "markdown",
      "metadata": {
        "id": "HqlfOFOIbyLd",
        "colab_type": "text"
      },
      "source": [
        "# Missing values , genfromtxt to 2d"
      ]
    },
    {
      "cell_type": "code",
      "metadata": {
        "id": "PVF8Va28bohW",
        "colab_type": "code",
        "outputId": "58f4cbf0-e567-46a4-9adc-d44e03948d96",
        "colab": {
          "base_uri": "https://localhost:8080/",
          "height": 34
        }
      },
      "source": [
        "iris_2d = np.genfromtxt('/content/cloned-repo/week5/iris.csv', delimiter = ',' , dtype= 'float')\n",
        "print(iris_2d.shape)"
      ],
      "execution_count": 13,
      "outputs": [
        {
          "output_type": "stream",
          "text": [
            "(30, 5)\n"
          ],
          "name": "stdout"
        }
      ]
    },
    {
      "cell_type": "code",
      "metadata": {
        "id": "pgO67Ws3cPz0",
        "colab_type": "code",
        "outputId": "c217d767-6a4c-4b7b-f37d-0299cacb40cd",
        "colab": {
          "base_uri": "https://localhost:8080/",
          "height": 102
        }
      },
      "source": [
        "print(iris_2d[:5])"
      ],
      "execution_count": 14,
      "outputs": [
        {
          "output_type": "stream",
          "text": [
            "[[5.1 3.5 1.4 0.2 nan]\n",
            " [4.9 3.  1.4 0.2 nan]\n",
            " [4.7 3.2 1.3 0.2 nan]\n",
            " [4.6 3.1 1.5 0.2 nan]\n",
            " [5.  3.6 1.4 0.2 nan]]\n"
          ],
          "name": "stdout"
        }
      ]
    },
    {
      "cell_type": "code",
      "metadata": {
        "id": "0io_jze6cUPt",
        "colab_type": "code",
        "outputId": "68697d7e-be29-4646-c0fc-304c19e4a464",
        "colab": {
          "base_uri": "https://localhost:8080/",
          "height": 122
        }
      },
      "source": [
        "print('\\n Số phần tử là nan: ' , np.isnan(iris_2d).sum())\n",
        "index = np.where(np.isnan(iris_2d))\n",
        "print(index)"
      ],
      "execution_count": 15,
      "outputs": [
        {
          "output_type": "stream",
          "text": [
            "\n",
            " Số phần tử là nan:  30\n",
            "(array([ 0,  1,  2,  3,  4,  5,  6,  7,  8,  9, 10, 11, 12, 13, 14, 15, 16,\n",
            "       17, 18, 19, 20, 21, 22, 23, 24, 25, 26, 27, 28, 29]), array([4, 4, 4, 4, 4, 4, 4, 4, 4, 4, 4, 4, 4, 4, 4, 4, 4, 4, 4, 4, 4, 4,\n",
            "       4, 4, 4, 4, 4, 4, 4, 4]))\n"
          ],
          "name": "stdout"
        }
      ]
    },
    {
      "cell_type": "markdown",
      "metadata": {
        "id": "36DkwpJkb5VV",
        "colab_type": "text"
      },
      "source": [
        "# Đọc 4 cột dữ liệu đầu , lọc các dòng có penallength (cột 3) và sepalleng(cột 1) < 50"
      ]
    },
    {
      "cell_type": "code",
      "metadata": {
        "id": "0xMZ8mwDcqEr",
        "colab_type": "code",
        "outputId": "3f79e08f-e7d6-4480-b3df-c0834b318935",
        "colab": {
          "base_uri": "https://localhost:8080/",
          "height": 51
        }
      },
      "source": [
        "iris_2d = np.genfromtxt(path , delimiter= ',' , dtype = 'float' ,usecols= [0,1,2,3])\n",
        "condition = (iris_2d[:,2] > 1.5) & (iris_2d[:,0] < 5.)\n",
        "out = iris_2d[condition]\n",
        "print(out)"
      ],
      "execution_count": 16,
      "outputs": [
        {
          "output_type": "stream",
          "text": [
            "[[4.9 2.4 3.3 1. ]\n",
            " [4.9 2.5 4.5 1.7]]\n"
          ],
          "name": "stdout"
        }
      ]
    },
    {
      "cell_type": "markdown",
      "metadata": {
        "id": "lgjlu9gKeFEf",
        "colab_type": "text"
      },
      "source": [
        "#  Mối tương quang giữa cộ thứ 1 và 3 "
      ]
    },
    {
      "cell_type": "code",
      "metadata": {
        "id": "0dGseVxyeIdg",
        "colab_type": "code",
        "outputId": "9b565441-5ad0-4b21-8acd-35c919a2fcd0",
        "colab": {
          "base_uri": "https://localhost:8080/",
          "height": 34
        }
      },
      "source": [
        "corr = np.corrcoef(iris_2d[:,0] , iris_2d[:,2])[0,1]\n",
        "print(corr)"
      ],
      "execution_count": 17,
      "outputs": [
        {
          "output_type": "stream",
          "text": [
            "0.8765676654135033\n"
          ],
          "name": "stdout"
        }
      ]
    },
    {
      "cell_type": "markdown",
      "metadata": {
        "id": "QGYQKvsWfyuA",
        "colab_type": "text"
      },
      "source": [
        "# Tìm giá trị duy nhaasrt và count chúng col species\n"
      ]
    },
    {
      "cell_type": "code",
      "metadata": {
        "id": "vQ_bLJIQekbH",
        "colab_type": "code",
        "outputId": "a71a0112-f2b5-4c4c-d077-6c2074c1a7da",
        "colab": {
          "base_uri": "https://localhost:8080/",
          "height": 51
        }
      },
      "source": [
        "out , count = np.unique(iris[:,4] , return_counts= True)\n",
        "print(out)\n",
        "print(count)"
      ],
      "execution_count": 18,
      "outputs": [
        {
          "output_type": "stream",
          "text": [
            "[b'Iris-setosa' b'Iris-versicolor' b'Iris-virginica']\n",
            "[10 10 10]\n"
          ],
          "name": "stdout"
        }
      ]
    },
    {
      "cell_type": "markdown",
      "metadata": {
        "id": "OEsOYEgTgfjF",
        "colab_type": "text"
      },
      "source": [
        "# Chuyển đổi cột 3 pental_length thành\n",
        "<-3 small\n",
        "\n",
        "3->5 medium\n",
        "\n",
        "->5 large\n"
      ]
    },
    {
      "cell_type": "code",
      "metadata": {
        "id": "ISDbXWzogKcF",
        "colab_type": "code",
        "colab": {}
      },
      "source": [
        "# hàm np.digitize : trả về vị trí chỉ số của bin mà mỗi phần tử thuộc khoảng bin tương ứng \n",
        "# chuyển đổi mảng sang mảng bin tương ứng với bảng định nghĩa chuyển đổi\n",
        "bin_petal_length = np.digitize(iris[:,2].astype('float') , [0,3,5,10])\n",
        "# ánh xạ bảng bin thành văn bản tương ứng\n",
        "label_map = {1: 'small' , 2:'medium' , 3: 'large' , 3:np.nan}\n",
        "map_bin_petallength = [label_map[x] for x in bin_petal_length]"
      ],
      "execution_count": 0,
      "outputs": []
    },
    {
      "cell_type": "code",
      "metadata": {
        "id": "o7aJVwRAiWYd",
        "colab_type": "code",
        "outputId": "73e78383-d3cc-4426-fcf4-1fb720ae3e2b",
        "colab": {
          "base_uri": "https://localhost:8080/",
          "height": 54
        }
      },
      "source": [
        "print(map_bin_petallength)"
      ],
      "execution_count": 20,
      "outputs": [
        {
          "output_type": "stream",
          "text": [
            "['small', 'small', 'small', 'small', 'small', 'small', 'small', 'small', 'small', 'small', 'medium', 'medium', 'medium', 'medium', 'medium', 'medium', 'medium', 'medium', 'medium', 'medium', nan, nan, nan, nan, nan, nan, 'medium', nan, nan, nan]\n"
          ],
          "name": "stdout"
        }
      ]
    },
    {
      "cell_type": "markdown",
      "metadata": {
        "id": "Jt3_9qF_iwut",
        "colab_type": "text"
      },
      "source": [
        "# Thêm một cột mới = petal + sepel )/2"
      ]
    },
    {
      "cell_type": "code",
      "metadata": {
        "id": "mp5adBtyi4S9",
        "colab_type": "code",
        "colab": {}
      },
      "source": [
        "sepal_length = iris_2d[:,0].astype('float')\n",
        "petal_length = iris_2d[:,2].astype('float')\n"
      ],
      "execution_count": 0,
      "outputs": []
    },
    {
      "cell_type": "code",
      "metadata": {
        "id": "qICu8NUgjK_B",
        "colab_type": "code",
        "outputId": "336be615-ac65-4933-cabb-2432321c2884",
        "colab": {
          "base_uri": "https://localhost:8080/",
          "height": 544
        }
      },
      "source": [
        "new_col = (sepal_length + petal_length)/2\n",
        "new_col = new_col[:,np.newaxis]\n",
        "print(new_col.shape , iris_2d.shape)\n",
        "out = np.hstack((iris_2d , new_col) )\n",
        "print(out)"
      ],
      "execution_count": 22,
      "outputs": [
        {
          "output_type": "stream",
          "text": [
            "(30, 1) (30, 4)\n",
            "[[5.1  3.5  1.4  0.2  3.25]\n",
            " [4.9  3.   1.4  0.2  3.15]\n",
            " [4.7  3.2  1.3  0.2  3.  ]\n",
            " [4.6  3.1  1.5  0.2  3.05]\n",
            " [5.   3.6  1.4  0.2  3.2 ]\n",
            " [5.4  3.9  1.7  0.4  3.55]\n",
            " [4.6  3.4  1.4  0.3  3.  ]\n",
            " [5.   3.4  1.5  0.2  3.25]\n",
            " [4.4  2.9  1.4  0.2  2.9 ]\n",
            " [4.9  3.1  1.5  0.1  3.2 ]\n",
            " [7.   3.2  4.7  1.4  5.85]\n",
            " [6.4  3.2  4.5  1.5  5.45]\n",
            " [6.9  3.1  4.9  1.5  5.9 ]\n",
            " [5.5  2.3  4.   1.3  4.75]\n",
            " [6.5  2.8  4.6  1.5  5.55]\n",
            " [5.7  2.8  4.5  1.3  5.1 ]\n",
            " [6.3  3.3  4.7  1.6  5.5 ]\n",
            " [4.9  2.4  3.3  1.   4.1 ]\n",
            " [6.6  2.9  4.6  1.3  5.6 ]\n",
            " [5.2  2.7  3.9  1.4  4.55]\n",
            " [6.3  3.3  6.   2.5  6.15]\n",
            " [5.8  2.7  5.1  1.9  5.45]\n",
            " [7.1  3.   5.9  2.1  6.5 ]\n",
            " [6.3  2.9  5.6  1.8  5.95]\n",
            " [6.5  3.   5.8  2.2  6.15]\n",
            " [7.6  3.   6.6  2.1  7.1 ]\n",
            " [4.9  2.5  4.5  1.7  4.7 ]\n",
            " [7.3  2.9  6.3  1.8  6.8 ]\n",
            " [6.7  2.5  5.8  1.8  6.25]\n",
            " [7.2  3.6  6.1  2.5  6.65]]\n"
          ],
          "name": "stdout"
        }
      ]
    },
    {
      "cell_type": "markdown",
      "metadata": {
        "id": "8b9MEzEknPz9",
        "colab_type": "text"
      },
      "source": [
        "#  Lấy mẫu cột spec sao cho số lượng setose gấp đôi versic và virgin"
      ]
    },
    {
      "cell_type": "code",
      "metadata": {
        "id": "XGeEKcFgjef_",
        "colab_type": "code",
        "colab": {}
      },
      "source": [
        "species = iris[:,4]"
      ],
      "execution_count": 0,
      "outputs": []
    },
    {
      "cell_type": "code",
      "metadata": {
        "id": "xF1P8S9onOT_",
        "colab_type": "code",
        "colab": {}
      },
      "source": [
        "# Cach 1\n",
        "label = np.array(['Iris-setosa' , 'Iris-versicolor' ,'Iris-virginca'] )\n",
        "out1 = np.random.choice(label , 30 , p = [0.5 , 0.25, 0.25])"
      ],
      "execution_count": 0,
      "outputs": []
    },
    {
      "cell_type": "code",
      "metadata": {
        "id": "IBFcuBCzoJW7",
        "colab_type": "code",
        "colab": {}
      },
      "source": [
        "# Cach 2\n",
        "probs = np.r_[np.linspace(0,0.500 , num= 10) , np.linspace(0.501 , 0.750 , num=10) ,\n",
        "              np.linspace(0.751 , 1. , num= 10)]"
      ],
      "execution_count": 0,
      "outputs": []
    },
    {
      "cell_type": "code",
      "metadata": {
        "id": "sV8YAB14oztm",
        "colab_type": "code",
        "colab": {}
      },
      "source": [
        "index = np.searchsorted(probs , np.random.random(30))"
      ],
      "execution_count": 0,
      "outputs": []
    },
    {
      "cell_type": "code",
      "metadata": {
        "id": "wqQTTCtJo8si",
        "colab_type": "code",
        "outputId": "8244dd77-1689-4396-c07e-471b6c19b1c2",
        "colab": {
          "base_uri": "https://localhost:8080/",
          "height": 51
        }
      },
      "source": [
        "out2 = species[index]\n",
        "print(np.unique(out2 , return_counts= True))"
      ],
      "execution_count": 27,
      "outputs": [
        {
          "output_type": "stream",
          "text": [
            "(array([b'Iris-setosa', b'Iris-versicolor', b'Iris-virginica'],\n",
            "      dtype=object), array([14, 10,  6]))\n"
          ],
          "name": "stdout"
        }
      ]
    },
    {
      "cell_type": "markdown",
      "metadata": {
        "id": "M8JthDjbYy5D",
        "colab_type": "text"
      },
      "source": [
        "# Tìm giá trị lớn thứ 2 của petalle trong nhóm setosa"
      ]
    },
    {
      "cell_type": "code",
      "metadata": {
        "id": "toT7k8eNpa63",
        "colab_type": "code",
        "colab": {
          "base_uri": "https://localhost:8080/",
          "height": 187
        },
        "outputId": "7ea88da3-7952-46ea-9db6-d09a43106f5d"
      },
      "source": [
        "iris = np.genfromtxt(path , delimiter=',' , dtype='object')\n",
        "print(iris[:10, :])"
      ],
      "execution_count": 28,
      "outputs": [
        {
          "output_type": "stream",
          "text": [
            "[[b'5.1' b'3.5' b'1.4' b'0.2' b'Iris-setosa']\n",
            " [b'4.9' b'3.0' b'1.4' b'0.2' b'Iris-setosa']\n",
            " [b'4.7' b'3.2' b'1.3' b'0.2' b'Iris-setosa']\n",
            " [b'4.6' b'3.1' b'1.5' b'0.2' b'Iris-setosa']\n",
            " [b'5.0' b'3.6' b'1.4' b'0.2' b'Iris-setosa']\n",
            " [b'5.4' b'3.9' b'1.7' b'0.4' b'Iris-setosa']\n",
            " [b'4.6' b'3.4' b'1.4' b'0.3' b'Iris-setosa']\n",
            " [b'5.0' b'3.4' b'1.5' b'0.2' b'Iris-setosa']\n",
            " [b'4.4' b'2.9' b'1.4' b'0.2' b'Iris-setosa']\n",
            " [b'4.9' b'3.1' b'1.5' b'0.1' b'Iris-setosa']]\n"
          ],
          "name": "stdout"
        }
      ]
    },
    {
      "cell_type": "code",
      "metadata": {
        "id": "3X1Wue9HZMQA",
        "colab_type": "code",
        "colab": {
          "base_uri": "https://localhost:8080/",
          "height": 187
        },
        "outputId": "96d39e0a-0492-4878-aa54-b57aaa40fdfd"
      },
      "source": [
        "iris_setosa = iris[iris[:,4] == b'Iris-setosa']\n",
        "print(iris_setosa)"
      ],
      "execution_count": 31,
      "outputs": [
        {
          "output_type": "stream",
          "text": [
            "[[b'5.1' b'3.5' b'1.4' b'0.2' b'Iris-setosa']\n",
            " [b'4.9' b'3.0' b'1.4' b'0.2' b'Iris-setosa']\n",
            " [b'4.7' b'3.2' b'1.3' b'0.2' b'Iris-setosa']\n",
            " [b'4.6' b'3.1' b'1.5' b'0.2' b'Iris-setosa']\n",
            " [b'5.0' b'3.6' b'1.4' b'0.2' b'Iris-setosa']\n",
            " [b'5.4' b'3.9' b'1.7' b'0.4' b'Iris-setosa']\n",
            " [b'4.6' b'3.4' b'1.4' b'0.3' b'Iris-setosa']\n",
            " [b'5.0' b'3.4' b'1.5' b'0.2' b'Iris-setosa']\n",
            " [b'4.4' b'2.9' b'1.4' b'0.2' b'Iris-setosa']\n",
            " [b'4.9' b'3.1' b'1.5' b'0.1' b'Iris-setosa']]\n"
          ],
          "name": "stdout"
        }
      ]
    },
    {
      "cell_type": "code",
      "metadata": {
        "id": "peDb-55fZo_G",
        "colab_type": "code",
        "colab": {
          "base_uri": "https://localhost:8080/",
          "height": 34
        },
        "outputId": "29de5d61-a29f-43bc-8db1-d2bb9b71b9b0"
      },
      "source": [
        "petal_length_setosa = iris_setosa[:,2].astype(float)\n",
        "out = np.unique(np.sort(petal_length_setosa))\n",
        "print(out[-2])"
      ],
      "execution_count": 38,
      "outputs": [
        {
          "output_type": "stream",
          "text": [
            "1.5\n"
          ],
          "name": "stdout"
        }
      ]
    },
    {
      "cell_type": "markdown",
      "metadata": {
        "id": "l126qhjLcslA",
        "colab_type": "text"
      },
      "source": [
        "# Sắp xếp dữ liệu iris dựa trên sepal_leg"
      ]
    },
    {
      "cell_type": "code",
      "metadata": {
        "id": "nNl4gtpFaWDr",
        "colab_type": "code",
        "colab": {
          "base_uri": "https://localhost:8080/",
          "height": 527
        },
        "outputId": "b74ea9df-d583-4ebb-c688-fc5b62701cd2"
      },
      "source": [
        "out = iris[iris[:,0].argsort()]\n",
        "print(out)"
      ],
      "execution_count": 40,
      "outputs": [
        {
          "output_type": "stream",
          "text": [
            "[[b'4.4' b'2.9' b'1.4' b'0.2' b'Iris-setosa']\n",
            " [b'4.6' b'3.1' b'1.5' b'0.2' b'Iris-setosa']\n",
            " [b'4.6' b'3.4' b'1.4' b'0.3' b'Iris-setosa']\n",
            " [b'4.7' b'3.2' b'1.3' b'0.2' b'Iris-setosa']\n",
            " [b'4.9' b'2.5' b'4.5' b'1.7' b'Iris-virginica']\n",
            " [b'4.9' b'3.0' b'1.4' b'0.2' b'Iris-setosa']\n",
            " [b'4.9' b'2.4' b'3.3' b'1.0' b'Iris-versicolor']\n",
            " [b'4.9' b'3.1' b'1.5' b'0.1' b'Iris-setosa']\n",
            " [b'5.0' b'3.6' b'1.4' b'0.2' b'Iris-setosa']\n",
            " [b'5.0' b'3.4' b'1.5' b'0.2' b'Iris-setosa']\n",
            " [b'5.1' b'3.5' b'1.4' b'0.2' b'Iris-setosa']\n",
            " [b'5.2' b'2.7' b'3.9' b'1.4' b'Iris-versicolor']\n",
            " [b'5.4' b'3.9' b'1.7' b'0.4' b'Iris-setosa']\n",
            " [b'5.5' b'2.3' b'4.0' b'1.3' b'Iris-versicolor']\n",
            " [b'5.7' b'2.8' b'4.5' b'1.3' b'Iris-versicolor']\n",
            " [b'5.8' b'2.7' b'5.1' b'1.9' b'Iris-virginica']\n",
            " [b'6.3' b'2.9' b'5.6' b'1.8' b'Iris-virginica']\n",
            " [b'6.3' b'3.3' b'4.7' b'1.6' b'Iris-versicolor']\n",
            " [b'6.3' b'3.3' b'6.0' b'2.5' b'Iris-virginica']\n",
            " [b'6.4' b'3.2' b'4.5' b'1.5' b'Iris-versicolor']\n",
            " [b'6.5' b'3.0' b'5.8' b'2.2' b'Iris-virginica']\n",
            " [b'6.5' b'2.8' b'4.6' b'1.5' b'Iris-versicolor']\n",
            " [b'6.6' b'2.9' b'4.6' b'1.3' b'Iris-versicolor']\n",
            " [b'6.7' b'2.5' b'5.8' b'1.8' b'Iris-virginica']\n",
            " [b'6.9' b'3.1' b'4.9' b'1.5' b'Iris-versicolor']\n",
            " [b'7.0' b'3.2' b'4.7' b'1.4' b'Iris-versicolor']\n",
            " [b'7.1' b'3.0' b'5.9' b'2.1' b'Iris-virginica']\n",
            " [b'7.2' b'3.6' b'6.1' b'2.5' b'Iris-virginica']\n",
            " [b'7.3' b'2.9' b'6.3' b'1.8' b'Iris-virginica']\n",
            " [b'7.6' b'3.0' b'6.6' b'2.1' b'Iris-virginica']]\n"
          ],
          "name": "stdout"
        }
      ]
    },
    {
      "cell_type": "markdown",
      "metadata": {
        "id": "0EzV0hXgeIVd",
        "colab_type": "text"
      },
      "source": [
        "# Tìm giá trị xuất hiện nhiều nhất trong cột petal (3) trong tập iris . Lấy các phần tử duy nhất và số lượng mỗi phần tử"
      ]
    },
    {
      "cell_type": "code",
      "metadata": {
        "id": "LEEm4B3Oc6W0",
        "colab_type": "code",
        "colab": {
          "base_uri": "https://localhost:8080/",
          "height": 68
        },
        "outputId": "92c78839-3f9d-42bc-eedc-bb98c2454e1b"
      },
      "source": [
        "values , counts = np.unique(iris[:,2] , return_counts=True)\n",
        "print(values)\n",
        "print(counts)"
      ],
      "execution_count": 41,
      "outputs": [
        {
          "output_type": "stream",
          "text": [
            "[b'1.3' b'1.4' b'1.5' b'1.7' b'3.3' b'3.9' b'4.0' b'4.5' b'4.6' b'4.7'\n",
            " b'4.9' b'5.1' b'5.6' b'5.8' b'5.9' b'6.0' b'6.1' b'6.3' b'6.6']\n",
            "[1 5 3 1 1 1 1 3 2 2 1 1 1 2 1 1 1 1 1]\n"
          ],
          "name": "stdout"
        }
      ]
    },
    {
      "cell_type": "markdown",
      "metadata": {
        "id": "FTYffWw7evGx",
        "colab_type": "text"
      },
      "source": [
        "# Tìm vị trí đầu tiền của một giá trị lớn hơn 1.0 trong cột thứ 4"
      ]
    },
    {
      "cell_type": "code",
      "metadata": {
        "id": "jmge6nZQekZI",
        "colab_type": "code",
        "colab": {
          "base_uri": "https://localhost:8080/",
          "height": 68
        },
        "outputId": "52f423fb-0298-47e5-8f5f-624002ceea05"
      },
      "source": [
        "petal_width = iris[:,3].astype(float) > 1.0\n",
        "print(petal_width)"
      ],
      "execution_count": 42,
      "outputs": [
        {
          "output_type": "stream",
          "text": [
            "[False False False False False False False False False False  True  True\n",
            "  True  True  True  True  True False  True  True  True  True  True  True\n",
            "  True  True  True  True  True  True]\n"
          ],
          "name": "stdout"
        }
      ]
    },
    {
      "cell_type": "code",
      "metadata": {
        "id": "7nVQvdlDfrus",
        "colab_type": "code",
        "colab": {
          "base_uri": "https://localhost:8080/",
          "height": 34
        },
        "outputId": "b64329aa-b74b-4678-b246-3b111d667b2d"
      },
      "source": [
        "index = np.argwhere(petal_width)[0]\n",
        "print(index)"
      ],
      "execution_count": 43,
      "outputs": [
        {
          "output_type": "stream",
          "text": [
            "[10]\n"
          ],
          "name": "stdout"
        }
      ]
    },
    {
      "cell_type": "markdown",
      "metadata": {
        "id": "OsPcTIRuf_9_",
        "colab_type": "text"
      },
      "source": [
        "# Tạo id nhóm dựa trên một biến phần loại cho trước , cột species"
      ]
    },
    {
      "cell_type": "code",
      "metadata": {
        "id": "6K1_0tFJgH81",
        "colab_type": "code",
        "colab": {
          "base_uri": "https://localhost:8080/",
          "height": 598
        },
        "outputId": "85cb896f-13a6-451b-b1ba-8303b5b0d086"
      },
      "source": [
        "species = iris[:,4].astype('str')\n",
        "# print(species)\n",
        "# Cách 1\n",
        "# Vong`loop\n",
        "output1 = [np.argwhere(np.unique(species) == s).tolist()[0][0]\n",
        "        for val in np.unique(species)\n",
        "        for s in species[species == val]]\n",
        "print(output1)\n",
        "# Cách 2\n",
        "output2 =[]\n",
        "uniqs = np.unique(species)\n",
        "print(uniqs)\n",
        "for val in uniqs:\n",
        "    for s in species[species == val]:\n",
        "        print(s)\n",
        "        group_id = np.argwhere(uniqs == s).tolist()[0][0]\n",
        "        output2.append(group_id) \n",
        "print(output2)"
      ],
      "execution_count": 51,
      "outputs": [
        {
          "output_type": "stream",
          "text": [
            "[0, 0, 0, 0, 0, 0, 0, 0, 0, 0, 1, 1, 1, 1, 1, 1, 1, 1, 1, 1, 2, 2, 2, 2, 2, 2, 2, 2, 2, 2]\n",
            "['Iris-setosa' 'Iris-versicolor' 'Iris-virginica']\n",
            "Iris-setosa\n",
            "Iris-setosa\n",
            "Iris-setosa\n",
            "Iris-setosa\n",
            "Iris-setosa\n",
            "Iris-setosa\n",
            "Iris-setosa\n",
            "Iris-setosa\n",
            "Iris-setosa\n",
            "Iris-setosa\n",
            "Iris-versicolor\n",
            "Iris-versicolor\n",
            "Iris-versicolor\n",
            "Iris-versicolor\n",
            "Iris-versicolor\n",
            "Iris-versicolor\n",
            "Iris-versicolor\n",
            "Iris-versicolor\n",
            "Iris-versicolor\n",
            "Iris-versicolor\n",
            "Iris-virginica\n",
            "Iris-virginica\n",
            "Iris-virginica\n",
            "Iris-virginica\n",
            "Iris-virginica\n",
            "Iris-virginica\n",
            "Iris-virginica\n",
            "Iris-virginica\n",
            "Iris-virginica\n",
            "Iris-virginica\n",
            "[0, 0, 0, 0, 0, 0, 0, 0, 0, 0, 1, 1, 1, 1, 1, 1, 1, 1, 1, 1, 2, 2, 2, 2, 2, 2, 2, 2, 2, 2]\n"
          ],
          "name": "stdout"
        }
      ]
    },
    {
      "cell_type": "code",
      "metadata": {
        "id": "duHJay5bfy3z",
        "colab_type": "code",
        "colab": {}
      },
      "source": [
        ""
      ],
      "execution_count": 0,
      "outputs": []
    }
  ]
}