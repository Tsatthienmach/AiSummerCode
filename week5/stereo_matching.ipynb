{
  "nbformat": 4,
  "nbformat_minor": 0,
  "metadata": {
    "colab": {
      "name": "GA_with_numpy.ipynb",
      "version": "0.3.2",
      "provenance": [],
      "collapsed_sections": [],
      "include_colab_link": true
    },
    "kernelspec": {
      "name": "python3",
      "display_name": "Python 3"
    }
  },
  "cells": [
    {
      "cell_type": "markdown",
      "metadata": {
        "id": "view-in-github",
        "colab_type": "text"
      },
      "source": [
        "<a href=\"https://colab.research.google.com/github/Tsatthienmach/AiSummerCode/blob/master/week5/stereo_matching.ipynb\" target=\"_parent\"><img src=\"https://colab.research.google.com/assets/colab-badge.svg\" alt=\"Open In Colab\"/></a>"
      ]
    },
    {
      "cell_type": "code",
      "metadata": {
        "id": "x64hSWEo7GdO",
        "colab_type": "code",
        "colab": {}
      },
      "source": [
        "import numpy as np\n",
        "import matplotlib.pyplot as plt\n",
        "from PIL import Image"
      ],
      "execution_count": 0,
      "outputs": []
    },
    {
      "cell_type": "code",
      "metadata": {
        "id": "dQ2yy6uAZiUM",
        "colab_type": "code",
        "colab": {
          "base_uri": "https://localhost:8080/",
          "height": 170
        },
        "outputId": "711d633b-fde5-4ba1-ce35-ec2d540fe9d7"
      },
      "source": [
        "# Clone the entire repo.\n",
        "!git clone -l -s https://github.com/Tsatthienmach/AiSummerCode.git cloned-repo\n",
        "%cd cloned-repo\n",
        "!ls"
      ],
      "execution_count": 47,
      "outputs": [
        {
          "output_type": "stream",
          "text": [
            "Cloning into 'cloned-repo'...\n",
            "warning: --local is ignored\n",
            "remote: Enumerating objects: 94, done.\u001b[K\n",
            "remote: Counting objects: 100% (94/94), done.\u001b[K\n",
            "remote: Compressing objects: 100% (86/86), done.\u001b[K\n",
            "remote: Total 94 (delta 36), reused 0 (delta 0), pack-reused 0\u001b[K\n",
            "Unpacking objects: 100% (94/94), done.\n",
            "/content/cloned-repo/cloned-repo\n",
            "_config.yml  documentations  README.md\tweek2  week4  week5\n"
          ],
          "name": "stdout"
        }
      ]
    },
    {
      "cell_type": "code",
      "metadata": {
        "id": "Eh8BB7OdLyi0",
        "colab_type": "code",
        "colab": {}
      },
      "source": [
        "def stereo_matching_sad(left_img , right_img , kernel_size , disparity_range):\n",
        "    left_img = Image.open(left_img).convert(\"L\")\n",
        "    left = np.asarray(left_img)\n",
        "    right_img = Image.open(right_img).convert('L')\n",
        "    right = np.asarray(right_img)\n",
        "    height , width = left.shape\n",
        "    depth = np.zeros((height , width ) , np.uint8)\n",
        "    kernel_half = int((kernel_size-1)/2)\n",
        "    scale = 255/disparity_range\n",
        "    memory = np.ones((disparity_range , height , width))\n",
        "    for j in range (disparity_range):\n",
        "        print('.' , end = ' ' )\n",
        "        data = np.ones((height , width ))\n",
        "        for y in range (kernel_half , height - kernel_half):\n",
        "            for x in range ( kernel_half ,width - kernel_half):\n",
        "                if (x-j >= 0):\n",
        "                    data[y,x] = abs(int(left[y,x]) - int(right[y, x-j]))/255\n",
        "        # sum area table\n",
        "        memory[j] = data.cumsum(axis = 0).cumsum(axis = 1)\n",
        "    for y in range (kernel_half + 1, height - kernel_half):\n",
        "        for x in range ( kernel_half +1 , width - kernel_half):\n",
        "            x0 = x - kernel_half\n",
        "            x1 = x + kernel_half\n",
        "            y0 = y - kernel_half\n",
        "            y1 = y + kernel_half\n",
        "\n",
        "            disparity = 0\n",
        "            cost_min = 100000\n",
        "            for j in range (disparity_range):\n",
        "                a = memory[j , y0-1 , x0-1]\n",
        "                b = memory[j , y0-1 , x1]\n",
        "                c = memory[j , y1 , x0-1]\n",
        "                d = memory[j , y1 , x1]\n",
        "                sad = a+d -c-b\n",
        "                if sad<   cost_min:\n",
        "                    cost_min = sad \n",
        "                    disparity = j\n",
        "            depth[y,x] = int(disparity*scale)\n",
        "    Image.fromarray(depth).save('/content/cloned-repo/week5/disparity_Map_sad.png')"
      ],
      "execution_count": 0,
      "outputs": []
    },
    {
      "cell_type": "code",
      "metadata": {
        "id": "ornbrSyqdWe_",
        "colab_type": "code",
        "colab": {
          "base_uri": "https://localhost:8080/",
          "height": 54
        },
        "outputId": "35c8b80c-1a51-4cc5-91e3-fd7add0b2c45"
      },
      "source": [
        "kernel_size = 9\n",
        "left_img = '/content/cloned-repo/week5/Aloe_left_1.png' \n",
        "right_img = '/content/cloned-repo/week5/Aloe_right_1.png'\n",
        "stereo_matching_sad(left_img , right_img , kernel_size , 64)"
      ],
      "execution_count": 53,
      "outputs": [
        {
          "output_type": "stream",
          "text": [
            ". . . . . . . . . . . . . . . . . . . . . . . . . . . . . . . . . . . . . . . . . . . . . . . . . . . . . . . . . . . . . . . . "
          ],
          "name": "stdout"
        }
      ]
    }
  ]
}